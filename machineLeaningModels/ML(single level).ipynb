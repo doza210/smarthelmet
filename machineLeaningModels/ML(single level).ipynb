{
 "cells": [
  {
   "attachments": {},
   "cell_type": "markdown",
   "metadata": {},
   "source": [
    "### MODEL FOR PERCLOS NEURAL NET"
   ]
  },
  {
   "cell_type": "code",
   "execution_count": 1,
   "metadata": {},
   "outputs": [],
   "source": [
    "from __future__ import print_function\n",
    "from matplotlib import pyplot as plt\n",
    "import numpy as np\n",
    "import pandas as pd\n",
    "import seaborn as sns\n",
    "from scipy import stats\n",
    "from IPython.display import display, HTML\n",
    "\n",
    "from sklearn import metrics\n",
    "from sklearn.metrics import classification_report\n",
    "from sklearn import preprocessing\n",
    "\n",
    "import keras\n",
    "from keras.models import Sequential\n",
    "from keras.layers import Dense, Dropout, Flatten, Reshape\n",
    "from keras.layers import Conv2D, MaxPooling2D\n",
    "from keras.utils import np_utils\n",
    "from keras.layers import BatchNormalization\n",
    "from keras.optimizers import Adam\n",
    "from keras import backend as K"
   ]
  },
  {
   "attachments": {},
   "cell_type": "markdown",
   "metadata": {},
   "source": [
    "### GETTING Data"
   ]
  },
  {
   "cell_type": "code",
   "execution_count": 2,
   "metadata": {},
   "outputs": [],
   "source": [
    "# dfAwake_train = pd.read_csv('Data/Data for 2nd Level Classification/training2_AData.txt', header=None, delim_whitespace=True)\n",
    "# dfDrowsy_train = pd.read_csv('Data/Data for 2nd Level Classification/training2_DData.txt', header=None, delim_whitespace=True)\n",
    "# dfAwake_test = pd.read_csv('Data/Data for 2nd Level Classification/testing2_AData.txt', header=None, delim_whitespace=True)\n",
    "# dfDrowsy_test = pd.read_csv('Data/Data for 2nd Level Classification/testing2_DData.txt', header=None, delim_whitespace=True)\n",
    "\n",
    "# dfAwake_train = pd.read_csv('Data/Validation/validation_AData.txt', header=None, delim_whitespace=True)\n",
    "# dfDrowsy_train = pd.read_csv('Data/Validation/validation_DData.txt', header=None, delim_whitespace=True)\n",
    "\n",
    "dfAwake_train1 = pd.read_csv('Data/Validation/validation_AData.txt', header=None, delim_whitespace=True)\n",
    "dfDrowsy_train1 = pd.read_csv('Data/Validation/validation_DData.txt', header=None, delim_whitespace=True)\n",
    "dfAwake_train2 = pd.read_csv('Data/Data for 2nd Level Classification/testing2_AData.txt', header=None, delim_whitespace=True)\n",
    "dfDrowsy_train2 = pd.read_csv('Data/Data for 2nd Level Classification/testing2_DData.txt', header=None, delim_whitespace=True)"
   ]
  },
  {
   "cell_type": "code",
   "execution_count": 3,
   "metadata": {},
   "outputs": [],
   "source": [
    "Awake_frames = [dfAwake_train1, dfAwake_train2]\n",
    "Drowsy_frames = [dfDrowsy_train1, dfDrowsy_train2]\n",
    "dfAwake_train = pd.concat(Awake_frames)\n",
    "dfDrowsy_train = pd.concat(Drowsy_frames)"
   ]
  },
  {
   "attachments": {},
   "cell_type": "markdown",
   "metadata": {},
   "source": [
    "### Printing Retrieved Data informations"
   ]
  },
  {
   "cell_type": "code",
   "execution_count": 4,
   "metadata": {},
   "outputs": [
    {
     "name": "stdout",
     "output_type": "stream",
     "text": [
      "(2430000, 15)\n",
      "(2700000, 15)\n"
     ]
    }
   ],
   "source": [
    "print(dfAwake_train.shape)\n",
    "print(dfDrowsy_train.shape)\n",
    "# print(dfAwake_test.shape)\n",
    "# print(dfDrowsy_test.shape)"
   ]
  },
  {
   "attachments": {},
   "cell_type": "markdown",
   "metadata": {},
   "source": [
    "### Dropping Not Needed Columns"
   ]
  },
  {
   "cell_type": "code",
   "execution_count": 5,
   "metadata": {},
   "outputs": [],
   "source": [
    "dfAwake_train = dfAwake_train.drop(11,axis = 1)\n",
    "dfAwake_train = dfAwake_train.drop(dfAwake_train.iloc[:,0:3],axis = 1)\n",
    "dfDrowsy_train = dfDrowsy_train.drop(11,axis = 1)\n",
    "dfDrowsy_train = dfDrowsy_train.drop(dfDrowsy_train.iloc[:,0:3],axis = 1)\n",
    "# dfAwake_test = dfAwake_test.drop(11,axis = 1)\n",
    "# dfAwake_test = dfAwake_test.drop(dfAwake_test.iloc[:,0:3],axis = 1)\n",
    "# dfDrowsy_test = dfDrowsy_test.drop(11,axis = 1)\n",
    "# dfDrowsy_test = dfDrowsy_test.drop(dfDrowsy_test.iloc[:,0:3],axis = 1)"
   ]
  },
  {
   "cell_type": "code",
   "execution_count": 6,
   "metadata": {},
   "outputs": [
    {
     "name": "stdout",
     "output_type": "stream",
     "text": [
      "(2430000, 11)\n",
      "(2700000, 11)\n"
     ]
    }
   ],
   "source": [
    "print(dfAwake_train.shape)\n",
    "print(dfDrowsy_train.shape)\n",
    "# print(dfAwake_test.shape)\n",
    "# print(dfDrowsy_test.shape)"
   ]
  },
  {
   "attachments": {},
   "cell_type": "markdown",
   "metadata": {},
   "source": [
    "### RESHAPING DATA"
   ]
  },
  {
   "cell_type": "code",
   "execution_count": 7,
   "metadata": {},
   "outputs": [],
   "source": [
    "dfAwake_train = dfAwake_train.to_numpy()\n",
    "dfDrowsy_train = dfDrowsy_train.to_numpy()\n",
    "dfAwake_train = dfAwake_train.reshape(2700,900,11)\n",
    "dfDrowsy_train = dfDrowsy_train.reshape(3000,900,11)\n",
    "# dfAwake_test = dfAwake_test.to_numpy()\n",
    "# dfDrowsy_test = dfDrowsy_test.to_numpy()\n",
    "# dfAwake_test = dfAwake_test.reshape(900,900,11)\n",
    "# dfDrowsy_test = dfDrowsy_test.reshape(1200,900,11)"
   ]
  },
  {
   "cell_type": "code",
   "execution_count": 8,
   "metadata": {},
   "outputs": [
    {
     "name": "stdout",
     "output_type": "stream",
     "text": [
      "(2700, 900, 11)\n",
      "(3000, 900, 11)\n",
      "[[[ 1.00000000e+00  2.53011000e-01  8.08210000e-02 ... -2.79859103e-02\n",
      "    4.19391146e-02  4.77777800e+00]\n",
      "  [ 1.00000000e+00  4.08065000e-01  8.15460000e-02 ... -2.06010176e-02\n",
      "    5.79664893e-02  4.77777800e+00]\n",
      "  [ 1.00000000e+00  4.08065000e-01  8.15460000e-02 ...  2.63604420e-02\n",
      "    8.98068149e-03  4.77777800e+00]\n",
      "  ...\n",
      "  [ 1.00000000e+00  5.14043000e-01  4.28680000e-02 ...  1.53091817e-02\n",
      "   -3.98974481e-02  4.55555500e+00]\n",
      "  [ 1.00000000e+00  5.14043000e-01  4.28680000e-02 ...  3.75500827e-02\n",
      "   -2.22858040e-03  4.55555500e+00]\n",
      "  [ 1.00000000e+00  9.39848000e-01  4.20940000e-02 ...  2.24502029e-02\n",
      "    3.17779331e-02  4.55555500e+00]]\n",
      "\n",
      " [[ 1.00000000e+00  4.08065000e-01  8.15460000e-02 ... -2.06010176e-02\n",
      "    5.79664893e-02  4.77777800e+00]\n",
      "  [ 1.00000000e+00  4.08065000e-01  8.15460000e-02 ...  2.63604420e-02\n",
      "    8.98068149e-03  4.77777800e+00]\n",
      "  [ 1.00000000e+00  4.08065000e-01  8.15460000e-02 ...  5.50962085e-02\n",
      "   -7.21536579e-02  4.77777800e+00]\n",
      "  ...\n",
      "  [ 1.00000000e+00  5.14043000e-01  4.28680000e-02 ...  3.75500827e-02\n",
      "   -2.22858040e-03  4.55555500e+00]\n",
      "  [ 1.00000000e+00  9.39848000e-01  4.20940000e-02 ...  2.24502029e-02\n",
      "    3.17779331e-02  4.55555500e+00]\n",
      "  [ 1.00000000e+00  9.39848000e-01  4.20940000e-02 ... -5.28714580e-04\n",
      "    3.81005612e-02  4.55555500e+00]]\n",
      "\n",
      " [[ 1.00000000e+00  4.08065000e-01  8.15460000e-02 ...  2.63604420e-02\n",
      "    8.98068149e-03  4.77777800e+00]\n",
      "  [ 1.00000000e+00  4.08065000e-01  8.15460000e-02 ...  5.50962085e-02\n",
      "   -7.21536579e-02  4.77777800e+00]\n",
      "  [ 1.00000000e+00  3.71586000e-01  1.43794000e-01 ...  6.09831295e-02\n",
      "   -1.14505984e-02  5.00000000e+00]\n",
      "  ...\n",
      "  [ 1.00000000e+00  9.39848000e-01  4.20940000e-02 ...  2.24502029e-02\n",
      "    3.17779331e-02  4.55555500e+00]\n",
      "  [ 1.00000000e+00  9.39848000e-01  4.20940000e-02 ... -5.28714580e-04\n",
      "    3.81005612e-02  4.55555500e+00]\n",
      "  [ 1.00000000e+00  9.39848000e-01  4.20940000e-02 ...  1.10392899e-03\n",
      "    1.17459408e-02  4.55555500e+00]]\n",
      "\n",
      " ...\n",
      "\n",
      " [[ 1.00000000e+00  2.55736000e-01  1.64545000e-01 ... -8.31772135e-04\n",
      "   -4.95200437e-03  1.55555600e+00]\n",
      "  [ 1.00000000e+00  1.78466000e-01  3.41296000e-01 ...  4.32957308e-03\n",
      "    2.03590360e-02  1.55555600e+00]\n",
      "  [ 1.00000000e+00  1.78466000e-01  3.41296000e-01 ... -1.01030222e-02\n",
      "   -9.46201561e-03  1.55555600e+00]\n",
      "  ...\n",
      "  [ 1.00000000e+00  1.43191700e+00  4.95924000e-01 ... -2.60877255e-01\n",
      "   -8.96038480e-02  1.11111100e+00]\n",
      "  [ 1.00000000e+00  1.43191700e+00  4.95924000e-01 ... -1.67561009e-01\n",
      "   -1.93590823e-02  1.11111100e+00]\n",
      "  [ 1.00000000e+00  1.11864600e+00  1.06688400e+00 ... -1.12166855e-01\n",
      "    1.28056287e-02  1.11111100e+00]]\n",
      "\n",
      " [[ 1.00000000e+00  1.78466000e-01  3.41296000e-01 ...  4.32957308e-03\n",
      "    2.03590360e-02  1.55555600e+00]\n",
      "  [ 1.00000000e+00  1.78466000e-01  3.41296000e-01 ... -1.01030222e-02\n",
      "   -9.46201561e-03  1.55555600e+00]\n",
      "  [ 1.00000000e+00  1.78466000e-01  3.41296000e-01 ...  7.32587565e-03\n",
      "   -1.83188525e-02  1.55555600e+00]\n",
      "  ...\n",
      "  [ 1.00000000e+00  1.43191700e+00  4.95924000e-01 ... -1.67561009e-01\n",
      "   -1.93590823e-02  1.11111100e+00]\n",
      "  [ 1.00000000e+00  1.11864600e+00  1.06688400e+00 ... -1.12166855e-01\n",
      "    1.28056287e-02  1.11111100e+00]\n",
      "  [ 1.00000000e+00  1.11864600e+00  1.06688400e+00 ... -2.28295753e-01\n",
      "   -1.26648389e-02  1.11111100e+00]]\n",
      "\n",
      " [[ 1.00000000e+00  1.78466000e-01  3.41296000e-01 ... -1.01030222e-02\n",
      "   -9.46201561e-03  1.55555600e+00]\n",
      "  [ 1.00000000e+00  1.78466000e-01  3.41296000e-01 ...  7.32587565e-03\n",
      "   -1.83188525e-02  1.55555600e+00]\n",
      "  [ 1.00000000e+00  1.78466000e-01  3.41296000e-01 ...  2.24526922e-03\n",
      "   -9.65510983e-03  1.55555600e+00]\n",
      "  ...\n",
      "  [ 1.00000000e+00  1.11864600e+00  1.06688400e+00 ... -1.12166855e-01\n",
      "    1.28056287e-02  1.11111100e+00]\n",
      "  [ 1.00000000e+00  1.11864600e+00  1.06688400e+00 ... -2.28295753e-01\n",
      "   -1.26648389e-02  1.11111100e+00]\n",
      "  [ 1.00000000e+00  1.11864600e+00  1.06688400e+00 ... -3.87329827e-02\n",
      "    6.93791251e-02  1.22222200e+00]]]\n",
      "[[[ 1.00000000e+00  1.89454700e+00  1.24212000e-01 ... -5.58448435e-02\n",
      "   -5.16452389e-02  1.06666670e+01]\n",
      "  [ 1.00000000e+00  1.89454700e+00  1.24212000e-01 ... -4.43720404e-02\n",
      "   -7.62190670e-02  1.06666670e+01]\n",
      "  [ 1.00000000e+00  2.25122000e-01  7.20080000e-02 ... -5.17152522e-03\n",
      "   -9.76618414e-02  1.05555550e+01]\n",
      "  ...\n",
      "  [ 1.00000000e+00  8.28049000e-01  1.70858000e-01 ... -3.19231075e-02\n",
      "    3.06063055e-02  6.66666700e+00]\n",
      "  [ 1.00000000e+00  8.28049000e-01  1.70858000e-01 ... -1.21190903e-02\n",
      "    2.54058592e-02  6.66666700e+00]\n",
      "  [ 1.00000000e+00  8.28049000e-01  1.70858000e-01 ... -1.70566355e-02\n",
      "    3.89270188e-02  6.77777800e+00]]\n",
      "\n",
      " [[ 1.00000000e+00  1.89454700e+00  1.24212000e-01 ... -4.43720404e-02\n",
      "   -7.62190670e-02  1.06666670e+01]\n",
      "  [ 1.00000000e+00  2.25122000e-01  7.20080000e-02 ... -5.17152522e-03\n",
      "   -9.76618414e-02  1.05555550e+01]\n",
      "  [ 1.00000000e+00  2.25122000e-01  7.20080000e-02 ...  4.37048895e-02\n",
      "   -6.14269418e-02  1.05555550e+01]\n",
      "  ...\n",
      "  [ 1.00000000e+00  8.28049000e-01  1.70858000e-01 ... -1.21190903e-02\n",
      "    2.54058592e-02  6.66666700e+00]\n",
      "  [ 1.00000000e+00  8.28049000e-01  1.70858000e-01 ... -1.70566355e-02\n",
      "    3.89270188e-02  6.77777800e+00]\n",
      "  [ 1.00000000e+00  4.51480000e-02  5.25600000e-03 ... -1.97703655e-02\n",
      "    6.56971918e-02  6.77777800e+00]]\n",
      "\n",
      " [[ 1.00000000e+00  2.25122000e-01  7.20080000e-02 ... -5.17152522e-03\n",
      "   -9.76618414e-02  1.05555550e+01]\n",
      "  [ 1.00000000e+00  2.25122000e-01  7.20080000e-02 ...  4.37048895e-02\n",
      "   -6.14269418e-02  1.05555550e+01]\n",
      "  [ 1.00000000e+00  2.25122000e-01  7.20080000e-02 ...  5.65890976e-02\n",
      "   -2.11192426e-03  1.05555550e+01]\n",
      "  ...\n",
      "  [ 1.00000000e+00  8.28049000e-01  1.70858000e-01 ... -1.70566355e-02\n",
      "    3.89270188e-02  6.77777800e+00]\n",
      "  [ 1.00000000e+00  4.51480000e-02  5.25600000e-03 ... -1.97703655e-02\n",
      "    6.56971918e-02  6.77777800e+00]\n",
      "  [ 1.00000000e+00  4.51480000e-02  5.25600000e-03 ...  1.96830459e-02\n",
      "   -2.28489966e-02  6.77777800e+00]]\n",
      "\n",
      " ...\n",
      "\n",
      " [[ 1.00000000e+00  2.60562400e+00  1.57390000e-01 ... -1.53896763e-02\n",
      "   -3.81892985e-03  5.44444400e+00]\n",
      "  [ 1.00000000e+00  1.59252000e+00  4.18584500e+00 ... -1.10851318e-02\n",
      "    5.49479127e-03  5.44444400e+00]\n",
      "  [ 1.00000000e+00  1.59252000e+00  4.18584500e+00 ... -1.32084012e-02\n",
      "   -6.25025799e-04  5.44444400e+00]\n",
      "  ...\n",
      "  [ 1.00000000e+00  9.78712000e-01  2.07823000e-01 ... -2.02252848e-03\n",
      "    1.60880047e-03  6.66666700e+00]\n",
      "  [ 1.00000000e+00  9.78712000e-01  2.07823000e-01 ... -2.07897651e-03\n",
      "   -4.85158482e-03  6.66666700e+00]\n",
      "  [ 1.00000000e+00  1.93527000e-01  4.10979000e-01 ...  5.13121353e-03\n",
      "   -3.11211815e-03  6.66666700e+00]]\n",
      "\n",
      " [[ 1.00000000e+00  1.59252000e+00  4.18584500e+00 ... -1.10851318e-02\n",
      "    5.49479127e-03  5.44444400e+00]\n",
      "  [ 1.00000000e+00  1.59252000e+00  4.18584500e+00 ... -1.32084012e-02\n",
      "   -6.25025799e-04  5.44444400e+00]\n",
      "  [ 1.00000000e+00  1.59252000e+00  4.18584500e+00 ... -1.54957591e-02\n",
      "   -1.20046163e-02  5.66666700e+00]\n",
      "  ...\n",
      "  [ 1.00000000e+00  9.78712000e-01  2.07823000e-01 ... -2.07897651e-03\n",
      "   -4.85158482e-03  6.66666700e+00]\n",
      "  [ 1.00000000e+00  1.93527000e-01  4.10979000e-01 ...  5.13121353e-03\n",
      "   -3.11211815e-03  6.66666700e+00]\n",
      "  [ 1.00000000e+00  1.93527000e-01  4.10979000e-01 ...  1.29643752e-02\n",
      "   -4.88805708e-03  6.66666700e+00]]\n",
      "\n",
      " [[ 1.00000000e+00  1.59252000e+00  4.18584500e+00 ... -1.32084012e-02\n",
      "   -6.25025799e-04  5.44444400e+00]\n",
      "  [ 1.00000000e+00  1.59252000e+00  4.18584500e+00 ... -1.54957591e-02\n",
      "   -1.20046163e-02  5.66666700e+00]\n",
      "  [ 1.00000000e+00  1.19837600e+00  2.90901600e+00 ... -1.05326723e-02\n",
      "    1.84589313e-03  5.77777800e+00]\n",
      "  ...\n",
      "  [ 1.00000000e+00  1.93527000e-01  4.10979000e-01 ...  5.13121353e-03\n",
      "   -3.11211815e-03  6.66666700e+00]\n",
      "  [ 1.00000000e+00  1.93527000e-01  4.10979000e-01 ...  1.29643752e-02\n",
      "   -4.88805708e-03  6.66666700e+00]\n",
      "  [ 1.00000000e+00  1.93527000e-01  4.10979000e-01 ...  9.54595961e-03\n",
      "   -1.79202368e-02  6.66666700e+00]]]\n"
     ]
    }
   ],
   "source": [
    "print(dfAwake_train.shape)\n",
    "print(dfDrowsy_train.shape)\n",
    "# print(dfAwake_test.shape)\n",
    "# print(dfDrowsy_test.shape)\n",
    "print(dfAwake_train)\n",
    "print(dfDrowsy_train)"
   ]
  },
  {
   "attachments": {},
   "cell_type": "markdown",
   "metadata": {},
   "source": [
    "### CREATING LABELS"
   ]
  },
  {
   "cell_type": "code",
   "execution_count": 9,
   "metadata": {},
   "outputs": [
    {
     "name": "stdout",
     "output_type": "stream",
     "text": [
      "(2700,)\n",
      "(3000,)\n"
     ]
    }
   ],
   "source": [
    "dfAwake_trainLabels = np.zeros(2700)\n",
    "print(dfAwake_trainLabels.shape)\n",
    "dfDrowsy_trainLabels = np.ones(3000)\n",
    "print(dfDrowsy_trainLabels.shape)\n",
    "# dfAwake_testLabels = np.zeros(900)\n",
    "# print(dfAwake_testLabels.shape)\n",
    "# dfDrowsy_testLabels = np.ones(1200)\n",
    "# print(dfDrowsy_testLabels.shape)"
   ]
  },
  {
   "cell_type": "code",
   "execution_count": 10,
   "metadata": {},
   "outputs": [
    {
     "name": "stdout",
     "output_type": "stream",
     "text": [
      "[0. 0. 0. ... 0. 0. 0.]\n",
      "[1. 1. 1. ... 1. 1. 1.]\n"
     ]
    }
   ],
   "source": [
    "print(dfAwake_trainLabels)\n",
    "print(dfDrowsy_trainLabels)\n",
    "# print(dfAwake_testLabels)\n",
    "# print(dfDrowsy_testLabels)"
   ]
  },
  {
   "attachments": {},
   "cell_type": "markdown",
   "metadata": {},
   "source": [
    "### Combining Awake Data and Drowsy Data"
   ]
  },
  {
   "cell_type": "code",
   "execution_count": 11,
   "metadata": {},
   "outputs": [
    {
     "name": "stdout",
     "output_type": "stream",
     "text": [
      "(5700, 900, 11)\n",
      "(5700,)\n",
      "[[[ 1.00000000e+00  2.53011000e-01  8.08210000e-02 ... -2.79859103e-02\n",
      "    4.19391146e-02  4.77777800e+00]\n",
      "  [ 1.00000000e+00  4.08065000e-01  8.15460000e-02 ... -2.06010176e-02\n",
      "    5.79664893e-02  4.77777800e+00]\n",
      "  [ 1.00000000e+00  4.08065000e-01  8.15460000e-02 ...  2.63604420e-02\n",
      "    8.98068149e-03  4.77777800e+00]\n",
      "  ...\n",
      "  [ 1.00000000e+00  5.14043000e-01  4.28680000e-02 ...  1.53091817e-02\n",
      "   -3.98974481e-02  4.55555500e+00]\n",
      "  [ 1.00000000e+00  5.14043000e-01  4.28680000e-02 ...  3.75500827e-02\n",
      "   -2.22858040e-03  4.55555500e+00]\n",
      "  [ 1.00000000e+00  9.39848000e-01  4.20940000e-02 ...  2.24502029e-02\n",
      "    3.17779331e-02  4.55555500e+00]]\n",
      "\n",
      " [[ 1.00000000e+00  4.08065000e-01  8.15460000e-02 ... -2.06010176e-02\n",
      "    5.79664893e-02  4.77777800e+00]\n",
      "  [ 1.00000000e+00  4.08065000e-01  8.15460000e-02 ...  2.63604420e-02\n",
      "    8.98068149e-03  4.77777800e+00]\n",
      "  [ 1.00000000e+00  4.08065000e-01  8.15460000e-02 ...  5.50962085e-02\n",
      "   -7.21536579e-02  4.77777800e+00]\n",
      "  ...\n",
      "  [ 1.00000000e+00  5.14043000e-01  4.28680000e-02 ...  3.75500827e-02\n",
      "   -2.22858040e-03  4.55555500e+00]\n",
      "  [ 1.00000000e+00  9.39848000e-01  4.20940000e-02 ...  2.24502029e-02\n",
      "    3.17779331e-02  4.55555500e+00]\n",
      "  [ 1.00000000e+00  9.39848000e-01  4.20940000e-02 ... -5.28714580e-04\n",
      "    3.81005612e-02  4.55555500e+00]]\n",
      "\n",
      " [[ 1.00000000e+00  4.08065000e-01  8.15460000e-02 ...  2.63604420e-02\n",
      "    8.98068149e-03  4.77777800e+00]\n",
      "  [ 1.00000000e+00  4.08065000e-01  8.15460000e-02 ...  5.50962085e-02\n",
      "   -7.21536579e-02  4.77777800e+00]\n",
      "  [ 1.00000000e+00  3.71586000e-01  1.43794000e-01 ...  6.09831295e-02\n",
      "   -1.14505984e-02  5.00000000e+00]\n",
      "  ...\n",
      "  [ 1.00000000e+00  9.39848000e-01  4.20940000e-02 ...  2.24502029e-02\n",
      "    3.17779331e-02  4.55555500e+00]\n",
      "  [ 1.00000000e+00  9.39848000e-01  4.20940000e-02 ... -5.28714580e-04\n",
      "    3.81005612e-02  4.55555500e+00]\n",
      "  [ 1.00000000e+00  9.39848000e-01  4.20940000e-02 ...  1.10392899e-03\n",
      "    1.17459408e-02  4.55555500e+00]]\n",
      "\n",
      " ...\n",
      "\n",
      " [[ 1.00000000e+00  2.60562400e+00  1.57390000e-01 ... -1.53896763e-02\n",
      "   -3.81892985e-03  5.44444400e+00]\n",
      "  [ 1.00000000e+00  1.59252000e+00  4.18584500e+00 ... -1.10851318e-02\n",
      "    5.49479127e-03  5.44444400e+00]\n",
      "  [ 1.00000000e+00  1.59252000e+00  4.18584500e+00 ... -1.32084012e-02\n",
      "   -6.25025799e-04  5.44444400e+00]\n",
      "  ...\n",
      "  [ 1.00000000e+00  9.78712000e-01  2.07823000e-01 ... -2.02252848e-03\n",
      "    1.60880047e-03  6.66666700e+00]\n",
      "  [ 1.00000000e+00  9.78712000e-01  2.07823000e-01 ... -2.07897651e-03\n",
      "   -4.85158482e-03  6.66666700e+00]\n",
      "  [ 1.00000000e+00  1.93527000e-01  4.10979000e-01 ...  5.13121353e-03\n",
      "   -3.11211815e-03  6.66666700e+00]]\n",
      "\n",
      " [[ 1.00000000e+00  1.59252000e+00  4.18584500e+00 ... -1.10851318e-02\n",
      "    5.49479127e-03  5.44444400e+00]\n",
      "  [ 1.00000000e+00  1.59252000e+00  4.18584500e+00 ... -1.32084012e-02\n",
      "   -6.25025799e-04  5.44444400e+00]\n",
      "  [ 1.00000000e+00  1.59252000e+00  4.18584500e+00 ... -1.54957591e-02\n",
      "   -1.20046163e-02  5.66666700e+00]\n",
      "  ...\n",
      "  [ 1.00000000e+00  9.78712000e-01  2.07823000e-01 ... -2.07897651e-03\n",
      "   -4.85158482e-03  6.66666700e+00]\n",
      "  [ 1.00000000e+00  1.93527000e-01  4.10979000e-01 ...  5.13121353e-03\n",
      "   -3.11211815e-03  6.66666700e+00]\n",
      "  [ 1.00000000e+00  1.93527000e-01  4.10979000e-01 ...  1.29643752e-02\n",
      "   -4.88805708e-03  6.66666700e+00]]\n",
      "\n",
      " [[ 1.00000000e+00  1.59252000e+00  4.18584500e+00 ... -1.32084012e-02\n",
      "   -6.25025799e-04  5.44444400e+00]\n",
      "  [ 1.00000000e+00  1.59252000e+00  4.18584500e+00 ... -1.54957591e-02\n",
      "   -1.20046163e-02  5.66666700e+00]\n",
      "  [ 1.00000000e+00  1.19837600e+00  2.90901600e+00 ... -1.05326723e-02\n",
      "    1.84589313e-03  5.77777800e+00]\n",
      "  ...\n",
      "  [ 1.00000000e+00  1.93527000e-01  4.10979000e-01 ...  5.13121353e-03\n",
      "   -3.11211815e-03  6.66666700e+00]\n",
      "  [ 1.00000000e+00  1.93527000e-01  4.10979000e-01 ...  1.29643752e-02\n",
      "   -4.88805708e-03  6.66666700e+00]\n",
      "  [ 1.00000000e+00  1.93527000e-01  4.10979000e-01 ...  9.54595961e-03\n",
      "   -1.79202368e-02  6.66666700e+00]]]\n",
      "[0. 0. 0. ... 1. 1. 1.]\n"
     ]
    }
   ],
   "source": [
    "dftrain = np.concatenate((dfAwake_train, dfDrowsy_train))\n",
    "dftrainlabels =np.concatenate((dfAwake_trainLabels, dfDrowsy_trainLabels))\n",
    "# dftrain = dfAwake_train\n",
    "# dftrainlabels = dfAwake_trainLabels\n",
    "print(dftrain.shape)\n",
    "print(dftrainlabels.shape)\n",
    "print(dftrain)\n",
    "print(dftrainlabels)"
   ]
  },
  {
   "attachments": {},
   "cell_type": "markdown",
   "metadata": {},
   "source": [
    "### SHUFFLING DATA"
   ]
  },
  {
   "cell_type": "code",
   "execution_count": 12,
   "metadata": {},
   "outputs": [
    {
     "name": "stdout",
     "output_type": "stream",
     "text": [
      "[ 818 3886  583 ... 3533 5477 1951]\n"
     ]
    }
   ],
   "source": [
    "idx = np.random.permutation(len(dftrainlabels))\n",
    "print(idx)"
   ]
  },
  {
   "cell_type": "code",
   "execution_count": 13,
   "metadata": {},
   "outputs": [],
   "source": [
    "dftrain=dftrain[idx]\n",
    "dftrainlabels=dftrainlabels[idx]"
   ]
  },
  {
   "cell_type": "code",
   "execution_count": 14,
   "metadata": {},
   "outputs": [
    {
     "name": "stdout",
     "output_type": "stream",
     "text": [
      "(5700, 900, 11)\n",
      "(5700,)\n",
      "[[[ 1.00000000e+00  7.65914000e-01  8.81650000e-02 ...  4.42763499e-03\n",
      "   -3.77957267e-03  0.00000000e+00]\n",
      "  [ 1.00000000e+00  8.76950000e-02  1.62690000e-02 ...  1.43549176e-02\n",
      "    1.69958386e-02  0.00000000e+00]\n",
      "  [ 1.00000000e+00  8.76950000e-02  1.62690000e-02 ...  3.82088060e-02\n",
      "   -7.22431518e-03  0.00000000e+00]\n",
      "  ...\n",
      "  [ 1.00000000e+00  2.99729000e-01  8.88550000e-02 ... -6.32362185e-03\n",
      "    1.21482501e-02  0.00000000e+00]\n",
      "  [ 1.00000000e+00  2.99729000e-01  8.88550000e-02 ... -1.73056787e-02\n",
      "   -5.54728556e-03  0.00000000e+00]\n",
      "  [ 1.00000000e+00  1.18122300e+00  2.14853000e-01 ...  2.48255111e-03\n",
      "   -4.24929806e-04  0.00000000e+00]]\n",
      "\n",
      " [[ 1.00000000e+00  8.23990000e-02  1.38010000e-02 ...  7.03187660e-04\n",
      "    6.32954325e-03  1.18888890e+01]\n",
      "  [ 1.00000000e+00  8.23990000e-02  1.38010000e-02 ... -6.07142685e-03\n",
      "   -6.30373062e-03  1.23333340e+01]\n",
      "  [ 1.00000000e+00  8.23990000e-02  1.38010000e-02 ... -8.14746228e-03\n",
      "    5.46148461e-03  1.23333340e+01]\n",
      "  ...\n",
      "  [ 1.00000000e+00  1.36542000e-01  6.36100000e-02 ... -4.90751643e-03\n",
      "    3.35714431e-03  2.36666660e+01]\n",
      "  [ 1.00000000e+00  6.09980000e-02  8.92900000e-03 ... -5.78119301e-03\n",
      "    2.17412298e-02  2.38888890e+01]\n",
      "  [ 1.00000000e+00  6.09980000e-02  8.92900000e-03 ...  5.35390564e-03\n",
      "   -3.56726707e-03  2.42222210e+01]]\n",
      "\n",
      " [[ 1.00000000e+00  1.92216000e-01  1.01885000e-01 ... -2.51787322e-02\n",
      "   -3.90157756e-02  4.88888900e+00]\n",
      "  [ 1.00000000e+00  1.92216000e-01  1.01885000e-01 ... -4.54533552e-02\n",
      "   -1.50357350e-02  4.88888900e+00]\n",
      "  [ 1.00000000e+00  1.98135000e-01  2.81040000e-02 ... -1.87185420e-02\n",
      "    6.34124476e-03  4.88888900e+00]\n",
      "  ...\n",
      "  [ 1.00000000e+00  2.90065000e-01  4.21940000e-02 ... -7.95436302e-03\n",
      "    1.55491761e-02  4.66666700e+00]\n",
      "  [ 1.00000000e+00  2.90065000e-01  4.21940000e-02 ... -8.54369261e-03\n",
      "    3.72495892e-02  4.66666700e+00]\n",
      "  [ 1.00000000e+00  2.90065000e-01  4.21940000e-02 ... -9.57465374e-03\n",
      "    3.94454964e-02  4.66666700e+00]]\n",
      "\n",
      " ...\n",
      "\n",
      " [[ 1.00000000e+00  1.19025000e-01  6.70100000e-02 ... -1.13997841e-02\n",
      "   -1.18509053e-03  8.66666700e+00]\n",
      "  [ 1.00000000e+00  1.19025000e-01  6.70100000e-02 ...  2.06054692e-03\n",
      "   -7.78204686e-03  8.66666700e+00]\n",
      "  [ 1.00000000e+00  1.19025000e-01  6.70100000e-02 ... -5.02203074e-03\n",
      "   -7.59541371e-03  8.66666700e+00]\n",
      "  ...\n",
      "  [ 1.00000000e+00  3.49175000e-01  4.05400000e-02 ...  6.50203404e-03\n",
      "    4.14122090e-02  1.02222220e+01]\n",
      "  [ 1.00000000e+00  3.49175000e-01  4.05400000e-02 ...  1.70940798e-02\n",
      "    2.28894068e-02  1.04444450e+01]\n",
      "  [ 1.00000000e+00  3.49175000e-01  4.05400000e-02 ...  1.80882878e-03\n",
      "    3.10368955e-02  1.05555550e+01]]\n",
      "\n",
      " [[ 1.00000000e+00  4.69130000e-01  6.88510000e-02 ... -1.20915775e-02\n",
      "   -1.98646402e-04  5.11111100e+00]\n",
      "  [ 1.00000000e+00  4.69130000e-01  6.88510000e-02 ... -6.71229940e-03\n",
      "    9.13183526e-03  5.11111100e+00]\n",
      "  [ 1.00000000e+00  1.16372800e+00  2.96894000e-01 ...  2.84182729e-03\n",
      "    1.14966998e-02  4.88888900e+00]\n",
      "  ...\n",
      "  [ 1.00000000e+00  1.61136700e+00  4.84258000e-01 ...  5.85986161e-03\n",
      "    5.40263803e-02  5.11111100e+00]\n",
      "  [ 1.00000000e+00  1.61136700e+00  4.84258000e-01 ... -3.04062606e-05\n",
      "    7.99934674e-02  5.33333300e+00]\n",
      "  [ 1.00000000e+00  1.61136700e+00  4.84258000e-01 ...  6.59493123e-03\n",
      "    6.98384505e-02  5.33333300e+00]]\n",
      "\n",
      " [[ 1.00000000e+00  7.07397000e-01  2.93499000e-01 ...  1.82608430e-02\n",
      "    2.86334909e-03  1.55555600e+00]\n",
      "  [ 1.00000000e+00  7.07397000e-01  2.93499000e-01 ...  2.12506131e-02\n",
      "    3.22546395e-03  1.55555600e+00]\n",
      "  [ 1.00000000e+00  7.07397000e-01  2.93499000e-01 ... -8.13409443e-03\n",
      "    8.27148527e-03  1.55555600e+00]\n",
      "  ...\n",
      "  [ 1.00000000e+00  4.87470000e-02  2.18340000e-02 ... -2.22484767e-05\n",
      "   -1.66512532e-02  1.11111100e+00]\n",
      "  [ 1.00000000e+00  4.87470000e-02  2.18340000e-02 ... -2.42677594e-02\n",
      "    4.79412433e-03  1.11111100e+00]\n",
      "  [ 1.00000000e+00  4.41080000e-02  1.31540000e-02 ... -3.66207245e-02\n",
      "    1.48162470e-02  1.11111100e+00]]]\n",
      "[0. 1. 0. ... 1. 1. 0.]\n"
     ]
    }
   ],
   "source": [
    "print(dftrain.shape)\n",
    "print(dftrainlabels.shape)\n",
    "print(dftrain)\n",
    "print(dftrainlabels)"
   ]
  },
  {
   "cell_type": "code",
   "execution_count": null,
   "metadata": {},
   "outputs": [],
   "source": [
    "# dftest = np.concatenate((dfAwake_test, dfDrowsy_test))\n",
    "# dftestlabels =np.concatenate((dfAwake_testLabels, dfDrowsy_testLabels))\n",
    "# print(dftest.shape)\n",
    "# print(dftestlabels.shape)\n",
    "# print(dftest)\n",
    "# print(dftestlabels)"
   ]
  },
  {
   "cell_type": "code",
   "execution_count": 15,
   "metadata": {},
   "outputs": [
    {
     "name": "stdout",
     "output_type": "stream",
     "text": [
      "(5700, 900, 11)\n",
      "(5700,)\n"
     ]
    }
   ],
   "source": [
    "# print(dftest.shape)\n",
    "# print(dftestlabels.shape)\n",
    "print(dftrain.shape)\n",
    "print(dftrainlabels.shape)"
   ]
  },
  {
   "attachments": {},
   "cell_type": "markdown",
   "metadata": {},
   "source": [
    "### Set input and output dimensions"
   ]
  },
  {
   "cell_type": "code",
   "execution_count": 16,
   "metadata": {},
   "outputs": [
    {
     "name": "stdout",
     "output_type": "stream",
     "text": [
      "dftrain shape: (5700, 900, 11)\n",
      "input_shape: 9900\n"
     ]
    }
   ],
   "source": [
    "input_shape = 900*11\n",
    "num_classes = 2\n",
    "print('dftrain shape:', dftrain.shape)\n",
    "print('input_shape:', input_shape)"
   ]
  },
  {
   "cell_type": "code",
   "execution_count": 17,
   "metadata": {},
   "outputs": [],
   "source": [
    "dftrain = dftrain.astype('float32')\n",
    "dftrainlabels = dftrainlabels.astype('float32')"
   ]
  },
  {
   "cell_type": "code",
   "execution_count": 18,
   "metadata": {},
   "outputs": [
    {
     "name": "stdout",
     "output_type": "stream",
     "text": [
      "New dfttrainlabels shape:  [[1. 0.]\n",
      " [0. 1.]\n",
      " [1. 0.]\n",
      " ...\n",
      " [0. 1.]\n",
      " [0. 1.]\n",
      " [1. 0.]]\n"
     ]
    }
   ],
   "source": [
    "dftrainlabels_hot = np_utils.to_categorical(dftrainlabels,num_classes)\n",
    "print('New dfttrainlabels shape: ', dftrainlabels_hot)"
   ]
  },
  {
   "cell_type": "code",
   "execution_count": 19,
   "metadata": {},
   "outputs": [
    {
     "name": "stdout",
     "output_type": "stream",
     "text": [
      "New dfttrainlabels shape:  (5700, 2)\n",
      "[0. 1. 0. ... 1. 1. 0.]\n"
     ]
    }
   ],
   "source": [
    "print('New dfttrainlabels shape: ', dftrainlabels_hot.shape)\n",
    "print(dftrainlabels)"
   ]
  },
  {
   "cell_type": "code",
   "execution_count": 20,
   "metadata": {},
   "outputs": [
    {
     "name": "stdout",
     "output_type": "stream",
     "text": [
      "(5700, 900, 11)\n",
      "(5700,)\n"
     ]
    }
   ],
   "source": [
    "print(dftrain.shape)\n",
    "print(dftrainlabels.shape)"
   ]
  },
  {
   "cell_type": "code",
   "execution_count": 21,
   "metadata": {},
   "outputs": [],
   "source": [
    "LABELS = ['Awake','Drowsy']"
   ]
  },
  {
   "cell_type": "code",
   "execution_count": 22,
   "metadata": {},
   "outputs": [
    {
     "name": "stdout",
     "output_type": "stream",
     "text": [
      "179/179 [==============================] - 1s 3ms/step - loss: 0.3939 - sparse_categorical_accuracy: 0.8911\n",
      "Test accuracy 0.8910526037216187\n",
      "Test loss 0.39392784237861633\n",
      "179/179 [==============================] - 1s 3ms/step\n",
      "              precision    recall  f1-score   support\n",
      "\n",
      "         0.0       0.82      0.99      0.90      2700\n",
      "         1.0       0.99      0.80      0.89      3000\n",
      "\n",
      "    accuracy                           0.89      5700\n",
      "   macro avg       0.90      0.90      0.89      5700\n",
      "weighted avg       0.91      0.89      0.89      5700\n",
      "\n"
     ]
    }
   ],
   "source": [
    "model = keras.models.load_model(\"best_model(single-levelv1).h5\")\n",
    "\n",
    "test_loss, test_acc = model.evaluate(dftrain, dftrainlabels,verbose=1)\n",
    "\n",
    "print(\"Test accuracy\", test_acc)\n",
    "print(\"Test loss\", test_loss)\n",
    "\n",
    "max_y_train = np.argmax(dftrainlabels_hot, axis=1)\n",
    "\n",
    "# Print confusion matrix for training data\n",
    "y_pred_train = model.predict(dftrain)\n",
    "# Take the class with the highest probability from the train predictions\n",
    "max_y_pred_train = np.argmax(y_pred_train, axis=1)\n",
    "print(classification_report(dftrainlabels, max_y_pred_train))"
   ]
  },
  {
   "cell_type": "code",
   "execution_count": 23,
   "metadata": {},
   "outputs": [
    {
     "data": {
      "image/png": "[encoded data removed]",
      "text/plain": [
       "<Figure size 600x400 with 2 Axes>"
      ]
     },
     "metadata": {},
     "output_type": "display_data"
    }
   ],
   "source": [
    "def show_confusion_matrix(validations, predictions):\n",
    "\n",
    "    matrix = metrics.confusion_matrix(validations, predictions)\n",
    "    plt.figure(figsize=(6, 4))\n",
    "    sns.heatmap(matrix,\n",
    "                cmap='coolwarm',\n",
    "                linecolor='white',\n",
    "                linewidths=1,\n",
    "                xticklabels=LABELS,\n",
    "                yticklabels=LABELS,\n",
    "                annot=True,\n",
    "                fmt='d')\n",
    "    plt.title('Confusion Matrix')\n",
    "    plt.ylabel('True Label')\n",
    "    plt.xlabel('Predicted Label')\n",
    "    plt.show()\n",
    "\n",
    "show_confusion_matrix(max_y_train, max_y_pred_train)"
   ]
  },
  {
   "attachments": {},
   "cell_type": "markdown",
   "metadata": {},
   "source": [
    "### Building the MODEL"
   ]
  },
  {
   "cell_type": "code",
   "execution_count": null,
   "metadata": {},
   "outputs": [],
   "source": [
    "def make_model(input_shape):\n",
    "    input_layer = keras.layers.Input(input_shape)\n",
    "\n",
    "    conv1 = keras.layers.Conv1D(filters=64, kernel_size=3, padding=\"same\")(input_layer)\n",
    "    conv1 = keras.layers.BatchNormalization()(conv1)\n",
    "    conv1 = keras.layers.ReLU()(conv1)\n",
    "\n",
    "    # conv2 = keras.layers.Conv1D(filters=64, kernel_size=3, padding=\"same\")(conv1)\n",
    "    # conv2 = keras.layers.BatchNormalization()(conv2)\n",
    "    # conv2 = keras.layers.ReLU()(conv2)\n",
    "\n",
    "    # conv3 = keras.layers.Conv1D(filters=64, kernel_size=3, padding=\"same\")(conv2)\n",
    "    # conv3 = keras.layers.BatchNormalization()(conv3)\n",
    "    # conv3 = keras.layers.ReLU()(conv3)\n",
    "\n",
    "    gap = keras.layers.GlobalAveragePooling1D()(conv1)\n",
    "\n",
    "    output_layer = keras.layers.Dense(num_classes, activation=\"softmax\")(gap)\n",
    "\n",
    "    return keras.models.Model(inputs=input_layer, outputs=output_layer)\n",
    "\n",
    "\n",
    "model = make_model(input_shape=dftrain.shape[1:])\n",
    "keras.utils.plot_model(model, show_shapes=True)"
   ]
  },
  {
   "attachments": {},
   "cell_type": "markdown",
   "metadata": {},
   "source": [
    "### FITTING Deep neural network Model in KERAS"
   ]
  },
  {
   "cell_type": "code",
   "execution_count": null,
   "metadata": {},
   "outputs": [],
   "source": [
    "epochs = 100\n",
    "batch_size = 540\n",
    "\n",
    "callbacks = [\n",
    "    keras.callbacks.ModelCheckpoint(\n",
    "        \"best_model(single-level).h5\", save_best_only=True, monitor=\"val_loss\"\n",
    "    ),\n",
    "    keras.callbacks.ReduceLROnPlateau(\n",
    "        monitor=\"val_loss\", factor=0.5, patience=5, min_lr=0.0001\n",
    "    ),\n",
    "    keras.callbacks.EarlyStopping(monitor=\"val_loss\", patience=12, verbose=1),\n",
    "]\n",
    "model.compile(\n",
    "    optimizer=\"adam\",\n",
    "    loss=\"sparse_categorical_crossentropy\",\n",
    "    metrics=[\"sparse_categorical_accuracy\"],\n",
    ")\n",
    "# model.compile(\n",
    "#     optimizer=\"adam\",\n",
    "#     loss=\"categorical_crossentropy\",\n",
    "#     metrics=[\"accuracy\"],\n",
    "# )\n",
    "history = model.fit(\n",
    "    dftrain,\n",
    "    dftrainlabels,\n",
    "    batch_size=batch_size,\n",
    "    epochs=epochs,\n",
    "    callbacks=callbacks,\n",
    "    validation_split=0.4,\n",
    "    verbose=1,\n",
    ")"
   ]
  },
  {
   "cell_type": "code",
   "execution_count": null,
   "metadata": {},
   "outputs": [],
   "source": [
    "# plt.figure(figsize=(6, 4))\n",
    "# plt.plot(history.history['accuracy'], 'r', label='Accuracy of training data')\n",
    "# plt.plot(history.history['val_accuracy'], 'b', label='Accuracy of validation data')\n",
    "# plt.plot(history.history['loss'], 'r--', label='Loss of training data')\n",
    "# plt.plot(history.history['val_loss'], 'b--', label='Loss of validation data')\n",
    "# plt.title('Model Accuracy and Loss')\n",
    "# plt.ylabel('Accuracy and Loss')\n",
    "# plt.xlabel('Training Epoch')\n",
    "# plt.ylim(0)\n",
    "# plt.legend()\n",
    "# plt.show()\n",
    "\n",
    "metric = \"sparse_categorical_accuracy\"\n",
    "plt.figure()\n",
    "plt.plot(history.history[metric])\n",
    "plt.plot(history.history[\"val_\" + metric])\n",
    "plt.plot(history.history['loss'], 'r--', label='Loss of training data')\n",
    "plt.plot(history.history['val_loss'], 'b--', label='Loss of validation data')\n",
    "plt.title(\"model \" + metric)\n",
    "plt.ylabel(metric, fontsize=\"large\")\n",
    "plt.xlabel(\"epoch\", fontsize=\"large\")\n",
    "plt.legend([\"train\", \"val\",\"loss\",\"val_loss\"], loc=\"best\")\n",
    "plt.show()\n",
    "plt.close()\n",
    "\n",
    "# Print confusion matrix for training data\n",
    "y_pred_train = model.predict(dftrain)\n",
    "# Take the class with the highest probability from the train predictions\n",
    "max_y_pred_train = np.argmax(y_pred_train, axis=1)\n",
    "print(classification_report(dftrainlabels, max_y_pred_train))"
   ]
  },
  {
   "attachments": {},
   "cell_type": "markdown",
   "metadata": {},
   "source": [
    "### Checking against Testing Data"
   ]
  },
  {
   "cell_type": "code",
   "execution_count": null,
   "metadata": {},
   "outputs": [],
   "source": [
    "\n",
    "# Set input_shape / reshape for Keras\n",
    "# dftest = dftest.reshape(dftest.shape[0], input_shape)\n",
    "\n",
    "dftest = dftest.astype('float32')\n",
    "dftestlabels = dftestlabels.astype('float32')\n",
    "\n",
    "dftestlabels_hot = np_utils.to_categorical(dftestlabels, num_classes)\n"
   ]
  },
  {
   "cell_type": "code",
   "execution_count": null,
   "metadata": {},
   "outputs": [],
   "source": [
    "print('New dfttrainlabels shape: ', dftestlabels_hot)\n",
    "print('New dfttrainlabels shape: ', dftestlabels.shape)\n",
    "print('New dfttrainlabels shape: ', dftestlabels)"
   ]
  },
  {
   "cell_type": "code",
   "execution_count": null,
   "metadata": {},
   "outputs": [],
   "source": [
    "# score = model_m.evaluate(dftest, dftestlabels_hot, verbose=1)\n",
    "\n",
    "# print('\\nAccuracy on test data: %0.2f' % score[1])\n",
    "# print('\\nLoss on test data: %0.2f' % score[0])"
   ]
  },
  {
   "cell_type": "code",
   "execution_count": null,
   "metadata": {},
   "outputs": [],
   "source": [
    "# LABELS = ['Awake','Drowsy','Indeterminate']\n",
    "LABELS = ['Awake','Drowsy']"
   ]
  },
  {
   "cell_type": "code",
   "execution_count": null,
   "metadata": {},
   "outputs": [],
   "source": [
    "# metric = \"sparse_categorical_accuracy\"\n",
    "# plt.figure()\n",
    "# plt.plot(history.history[metric])\n",
    "# plt.plot(history.history[\"val_\" + metric])\n",
    "# plt.title(\"model \" + metric)\n",
    "# plt.ylabel(metric, fontsize=\"large\")\n",
    "# plt.xlabel(\"epoch\", fontsize=\"large\")\n",
    "# plt.legend([\"train\", \"val\"], loc=\"best\")\n",
    "# plt.show()\n",
    "# plt.close()"
   ]
  },
  {
   "cell_type": "code",
   "execution_count": null,
   "metadata": {},
   "outputs": [],
   "source": [
    "model = keras.models.load_model(\"best_model(single-levelv1).h5\")\n",
    "\n",
    "test_loss, test_acc = model.evaluate(dftest, dftestlabels,verbose=1)\n",
    "\n",
    "print(\"Test accuracy\", test_acc)\n",
    "print(\"Test loss\", test_loss)"
   ]
  },
  {
   "cell_type": "code",
   "execution_count": null,
   "metadata": {},
   "outputs": [],
   "source": [
    "# # Print confusion matrix for training data\n",
    "# y_pred_train = model.predict(dftest)\n",
    "# # Take the class with the highest probability from the train predictions\n",
    "# max_y_pred_train = np.argmax(y_pred_train, axis=1)\n",
    "# print(classification_report(dftestlabels, max_y_pred_train))"
   ]
  },
  {
   "cell_type": "code",
   "execution_count": null,
   "metadata": {},
   "outputs": [],
   "source": [
    "def show_confusion_matrix(validations, predictions):\n",
    "\n",
    "    matrix = metrics.confusion_matrix(validations, predictions)\n",
    "    plt.figure(figsize=(6, 4))\n",
    "    sns.heatmap(matrix,\n",
    "                cmap='coolwarm',\n",
    "                linecolor='white',\n",
    "                linewidths=1,\n",
    "                xticklabels=LABELS,\n",
    "                yticklabels=LABELS,\n",
    "                annot=True,\n",
    "                fmt='d')\n",
    "    plt.title('Confusion Matrix')\n",
    "    plt.ylabel('True Label')\n",
    "    plt.xlabel('Predicted Label')\n",
    "    plt.show()\n",
    "\n",
    "y_pred_test = model.predict(dftest)\n",
    "# Take the class with the highest probability from the test predictions\n",
    "max_y_pred_test = np.argmax(y_pred_test, axis=1)\n",
    "max_y_test = np.argmax(dftestlabels_hot, axis=1)\n",
    "\n",
    "show_confusion_matrix(max_y_test, max_y_pred_test)\n",
    "\n",
    "print(classification_report(max_y_test, max_y_pred_test))"
   ]
  },
  {
   "cell_type": "code",
   "execution_count": null,
   "metadata": {},
   "outputs": [],
   "source": [
    "# model = keras.models.load_model(\"best_model.h5\")\n",
    "# print(model.summary())"
   ]
  }
 ],
 "metadata": {
  "kernelspec": {
   "display_name": "Python 3",
   "language": "python",
   "name": "python3"
  },
  "language_info": {
   "codemirror_mode": {
    "name": "ipython",
    "version": 3
   },
   "file_extension": ".py",
   "mimetype": "text/x-python",
   "name": "python",
   "nbconvert_exporter": "python",
   "pygments_lexer": "ipython3",
   "version": "3.10.8 (tags/v3.10.8:aaaf517, Oct 11 2022, 16:50:30) [MSC v.1933 64 bit (AMD64)]"
  },
  "orig_nbformat": 4,
  "vscode": {
   "interpreter": {
    "hash": "26de051ba29f2982a8de78e945f0abaf191376122a1563185a90213a26c5da77"
   }
  }
 },
 "nbformat": 4,
 "nbformat_minor": 2
}
