{
 "cells": [
  {
   "attachments": {},
   "cell_type": "markdown",
   "metadata": {},
   "source": [
    "### MODEL FOR EEG NEURAL NET"
   ]
  },
  {
   "cell_type": "code",
   "execution_count": 182,
   "metadata": {},
   "outputs": [],
   "source": [
    "from __future__ import print_function\n",
    "from matplotlib import pyplot as plt\n",
    "import numpy as np\n",
    "import pandas as pd\n",
    "import seaborn as sns\n",
    "from scipy import stats\n",
    "from IPython.display import display, HTML\n",
    "\n",
    "from sklearn import metrics\n",
    "from sklearn.metrics import classification_report\n",
    "from sklearn import preprocessing\n",
    "\n",
    "import keras\n",
    "from keras.models import Sequential\n",
    "from keras.layers import Dense, Dropout, Flatten, Reshape\n",
    "from keras.layers import Conv2D, MaxPooling2D\n",
    "from keras.utils import np_utils\n",
    "from keras.layers import BatchNormalization\n",
    "from keras.optimizers import Adam\n",
    "from keras import backend as K"
   ]
  },
  {
   "attachments": {},
   "cell_type": "markdown",
   "metadata": {},
   "source": [
    "### GETTING Data"
   ]
  },
  {
   "cell_type": "code",
   "execution_count": 183,
   "metadata": {},
   "outputs": [],
   "source": [
    "dfAwake_train = pd.read_csv('Data/training_AData.txt', header=None, delim_whitespace=True)\n",
    "dfDrowsy_train = pd.read_csv('Data/training_DData.txt', header=None, delim_whitespace=True)\n",
    "dfAwake_test = pd.read_csv('Data/testing_AData.txt', header=None, delim_whitespace=True)\n",
    "dfDrowsy_test = pd.read_csv('Data/testing_DData.txt', header=None, delim_whitespace=True)"
   ]
  },
  {
   "attachments": {},
   "cell_type": "markdown",
   "metadata": {},
   "source": [
    "### Printing Retrieved Data informations"
   ]
  },
  {
   "cell_type": "code",
   "execution_count": 184,
   "metadata": {},
   "outputs": [
    {
     "name": "stdout",
     "output_type": "stream",
     "text": [
      "(3240000, 15)\n",
      "(3240000, 15)\n",
      "(1620000, 15)\n",
      "(1620000, 15)\n"
     ]
    }
   ],
   "source": [
    "print(dfAwake_train.shape)\n",
    "print(dfDrowsy_train.shape)\n",
    "print(dfAwake_test.shape)\n",
    "print(dfDrowsy_test.shape)"
   ]
  },
  {
   "attachments": {},
   "cell_type": "markdown",
   "metadata": {},
   "source": [
    "### Dropping Not Needed Columns Keeping PERCLOS"
   ]
  },
  {
   "cell_type": "code",
   "execution_count": 185,
   "metadata": {},
   "outputs": [],
   "source": [
    "dfAwake_train = dfAwake_train.drop(dfAwake_train.iloc[:,11:15],axis = 1)\n",
    "dfAwake_train = dfAwake_train.drop(dfAwake_train.iloc[:,0:3],axis = 1)\n",
    "dfDrowsy_train = dfDrowsy_train.drop(dfDrowsy_train.iloc[:,11:15],axis = 1)\n",
    "dfDrowsy_train = dfDrowsy_train.drop(dfDrowsy_train.iloc[:,0:3],axis = 1)\n",
    "dfAwake_test = dfAwake_test.drop(dfAwake_test.iloc[:,11:15],axis = 1)\n",
    "dfAwake_test = dfAwake_test.drop(dfAwake_test.iloc[:,0:3],axis = 1)\n",
    "dfDrowsy_test = dfDrowsy_test.drop(dfDrowsy_test.iloc[:,11:15],axis = 1)\n",
    "dfDrowsy_test = dfDrowsy_test.drop(dfDrowsy_test.iloc[:,0:3],axis = 1)"
   ]
  },
  {
   "cell_type": "code",
   "execution_count": 186,
   "metadata": {},
   "outputs": [
    {
     "name": "stdout",
     "output_type": "stream",
     "text": [
      "(3240000, 8)\n",
      "(3240000, 8)\n",
      "(1620000, 8)\n",
      "(1620000, 8)\n"
     ]
    }
   ],
   "source": [
    "print(dfAwake_train.shape)\n",
    "print(dfDrowsy_train.shape)\n",
    "print(dfAwake_test.shape)\n",
    "print(dfDrowsy_test.shape)"
   ]
  },
  {
   "attachments": {},
   "cell_type": "markdown",
   "metadata": {},
   "source": [
    "### RESHAPING DATA"
   ]
  },
  {
   "cell_type": "code",
   "execution_count": 187,
   "metadata": {},
   "outputs": [
    {
     "name": "stdout",
     "output_type": "stream",
     "text": [
      "(3600, 900, 8)\n",
      "(3600, 900, 8)\n",
      "(1800, 900, 8)\n",
      "(1800, 900, 8)\n"
     ]
    }
   ],
   "source": [
    "dfAwake_train = dfAwake_train.to_numpy()\n",
    "dfDrowsy_train = dfDrowsy_train.to_numpy()\n",
    "dfAwake_train = dfAwake_train.reshape(3600,900,8)\n",
    "dfDrowsy_train = dfDrowsy_train.reshape(3600,900,8)\n",
    "dfAwake_test = dfAwake_test.to_numpy()\n",
    "dfDrowsy_test = dfDrowsy_test.to_numpy()\n",
    "dfAwake_test = dfAwake_test.reshape(1800,900,8)\n",
    "dfDrowsy_test = dfDrowsy_test.reshape(1800,900,8)\n",
    "print(dfAwake_train.shape)\n",
    "print(dfDrowsy_train.shape)\n",
    "print(dfAwake_test.shape)\n",
    "print(dfDrowsy_test.shape)\n",
    "# print(dfAwake.head)\n",
    "# print(dfDrowsy.head)"
   ]
  },
  {
   "attachments": {},
   "cell_type": "markdown",
   "metadata": {},
   "source": [
    "### CREATING LABELS"
   ]
  },
  {
   "cell_type": "code",
   "execution_count": 188,
   "metadata": {},
   "outputs": [
    {
     "name": "stdout",
     "output_type": "stream",
     "text": [
      "(3600,)\n",
      "(3600,)\n",
      "(1800,)\n",
      "(1800,)\n"
     ]
    }
   ],
   "source": [
    "dfAwake_trainLabels = np.zeros(3600)\n",
    "print(dfAwake_trainLabels.shape)\n",
    "dfDrowsy_trainLabels = np.ones(3600)\n",
    "print(dfDrowsy_trainLabels.shape)\n",
    "dfAwake_testLabels = np.zeros(1800)\n",
    "print(dfAwake_testLabels.shape)\n",
    "dfDrowsy_testLabels = np.ones(1800)\n",
    "print(dfDrowsy_testLabels.shape)"
   ]
  },
  {
   "cell_type": "code",
   "execution_count": 189,
   "metadata": {},
   "outputs": [
    {
     "name": "stdout",
     "output_type": "stream",
     "text": [
      "[0. 0. 0. ... 0. 0. 0.]\n",
      "[1. 1. 1. ... 1. 1. 1.]\n",
      "[0. 0. 0. ... 0. 0. 0.]\n",
      "[1. 1. 1. ... 1. 1. 1.]\n"
     ]
    }
   ],
   "source": [
    "print(dfAwake_trainLabels)\n",
    "print(dfDrowsy_trainLabels)\n",
    "print(dfAwake_testLabels)\n",
    "print(dfDrowsy_testLabels)"
   ]
  },
  {
   "attachments": {},
   "cell_type": "markdown",
   "metadata": {},
   "source": [
    "### Combining Awake Data and Drowsy Data"
   ]
  },
  {
   "cell_type": "code",
   "execution_count": 190,
   "metadata": {},
   "outputs": [
    {
     "name": "stdout",
     "output_type": "stream",
     "text": [
      "(7200, 900, 8)\n",
      "(7200,)\n",
      "[[[1.       2.757393 1.724006 ... 3.274563 1.257075 0.776789]\n",
      "  [1.       0.504561 0.813233 ... 2.520921 0.771536 0.800058]\n",
      "  [1.       0.504561 0.813233 ... 2.520921 0.771536 0.800058]\n",
      "  ...\n",
      "  [1.       0.62141  0.093751 ... 0.136937 0.070096 0.032042]\n",
      "  [1.       0.62141  0.093751 ... 0.136937 0.070096 0.032042]\n",
      "  [1.       0.040544 0.009582 ... 0.049356 0.027714 0.009525]]\n",
      "\n",
      " [[1.       0.504561 0.813233 ... 2.520921 0.771536 0.800058]\n",
      "  [1.       0.504561 0.813233 ... 2.520921 0.771536 0.800058]\n",
      "  [1.       0.504561 0.813233 ... 2.520921 0.771536 0.800058]\n",
      "  ...\n",
      "  [1.       0.62141  0.093751 ... 0.136937 0.070096 0.032042]\n",
      "  [1.       0.040544 0.009582 ... 0.049356 0.027714 0.009525]\n",
      "  [1.       0.040544 0.009582 ... 0.049356 0.027714 0.009525]]\n",
      "\n",
      " [[1.       0.504561 0.813233 ... 2.520921 0.771536 0.800058]\n",
      "  [1.       0.504561 0.813233 ... 2.520921 0.771536 0.800058]\n",
      "  [1.       0.504561 0.813233 ... 2.520921 0.771536 0.800058]\n",
      "  ...\n",
      "  [1.       0.040544 0.009582 ... 0.049356 0.027714 0.009525]\n",
      "  [1.       0.040544 0.009582 ... 0.049356 0.027714 0.009525]\n",
      "  [1.       0.040544 0.009582 ... 0.049356 0.027714 0.009525]]\n",
      "\n",
      " ...\n",
      "\n",
      " [[1.       3.41675  0.580073 ... 0.691625 0.63723  0.542324]\n",
      "  [1.       3.41675  0.580073 ... 0.691625 0.63723  0.542324]\n",
      "  [1.       3.41675  0.580073 ... 0.691625 0.63723  0.542324]\n",
      "  ...\n",
      "  [1.       2.22614  1.133739 ... 1.04539  0.773455 0.664235]\n",
      "  [1.       0.629168 0.326487 ... 0.746906 0.399622 0.161568]\n",
      "  [1.       0.629168 0.326487 ... 0.746906 0.399622 0.161568]]\n",
      "\n",
      " [[1.       3.41675  0.580073 ... 0.691625 0.63723  0.542324]\n",
      "  [1.       3.41675  0.580073 ... 0.691625 0.63723  0.542324]\n",
      "  [1.       0.838372 0.674698 ... 0.843988 0.431563 0.299334]\n",
      "  ...\n",
      "  [1.       0.629168 0.326487 ... 0.746906 0.399622 0.161568]\n",
      "  [1.       0.629168 0.326487 ... 0.746906 0.399622 0.161568]\n",
      "  [1.       0.629168 0.326487 ... 0.746906 0.399622 0.161568]]\n",
      "\n",
      " [[1.       3.41675  0.580073 ... 0.691625 0.63723  0.542324]\n",
      "  [1.       0.838372 0.674698 ... 0.843988 0.431563 0.299334]\n",
      "  [1.       0.838372 0.674698 ... 0.843988 0.431563 0.299334]\n",
      "  ...\n",
      "  [1.       0.629168 0.326487 ... 0.746906 0.399622 0.161568]\n",
      "  [1.       0.629168 0.326487 ... 0.746906 0.399622 0.161568]\n",
      "  [1.       1.283944 0.686829 ... 0.618664 0.507769 0.265631]]]\n",
      "[0. 0. 0. ... 1. 1. 1.]\n"
     ]
    }
   ],
   "source": [
    "dftrain = np.concatenate((dfAwake_train, dfDrowsy_train))\n",
    "dftrainlabels =np.concatenate((dfAwake_trainLabels, dfDrowsy_trainLabels))\n",
    "print(dftrain.shape)\n",
    "print(dftrainlabels.shape)\n",
    "print(dftrain)\n",
    "print(dftrainlabels)"
   ]
  },
  {
   "attachments": {},
   "cell_type": "markdown",
   "metadata": {},
   "source": [
    "### SHUFFLING DATA"
   ]
  },
  {
   "cell_type": "code",
   "execution_count": 191,
   "metadata": {},
   "outputs": [
    {
     "name": "stdout",
     "output_type": "stream",
     "text": [
      "[2707 6745  518 ... 2169 5450 1951]\n"
     ]
    }
   ],
   "source": [
    "idx = np.random.permutation(len(dftrainlabels))\n",
    "print(idx)"
   ]
  },
  {
   "cell_type": "code",
   "execution_count": 192,
   "metadata": {},
   "outputs": [],
   "source": [
    "dftrain=dftrain[idx]\n",
    "dftrainlabels=dftrainlabels[idx]"
   ]
  },
  {
   "cell_type": "code",
   "execution_count": 193,
   "metadata": {},
   "outputs": [
    {
     "name": "stdout",
     "output_type": "stream",
     "text": [
      "(7200, 900, 8)\n",
      "(7200,)\n",
      "[[[1.000000e+00 3.148220e-01 8.205700e-02 ... 1.197800e-02 1.297000e-02\n",
      "   3.621000e-03]\n",
      "  [1.000000e+00 1.027040e-01 3.016800e-02 ... 1.105800e-02 5.175000e-03\n",
      "   3.896000e-03]\n",
      "  [1.000000e+00 1.027040e-01 3.016800e-02 ... 1.105800e-02 5.175000e-03\n",
      "   3.896000e-03]\n",
      "  ...\n",
      "  [1.000000e+00 1.096620e-01 1.973400e-02 ... 1.172400e-02 7.869000e-03\n",
      "   3.454000e-03]\n",
      "  [1.000000e+00 5.746675e+00 5.643340e-01 ... 1.257560e-01 1.095980e-01\n",
      "   6.595800e-02]\n",
      "  [1.000000e+00 5.746675e+00 5.643340e-01 ... 1.257560e-01 1.095980e-01\n",
      "   6.595800e-02]]\n",
      "\n",
      " [[1.000000e+00 2.099341e+00 1.213539e+00 ... 6.881820e-01 3.203080e-01\n",
      "   2.112640e-01]\n",
      "  [1.000000e+00 2.099341e+00 1.213539e+00 ... 6.881820e-01 3.203080e-01\n",
      "   2.112640e-01]\n",
      "  [1.000000e+00 2.099341e+00 1.213539e+00 ... 6.881820e-01 3.203080e-01\n",
      "   2.112640e-01]\n",
      "  ...\n",
      "  [1.000000e+00 8.939460e-01 1.057880e-01 ... 4.224580e-01 3.305270e-01\n",
      "   1.616930e-01]\n",
      "  [1.000000e+00 4.794180e-01 5.289900e-02 ... 1.790857e+00 7.638820e-01\n",
      "   5.000880e-01]\n",
      "  [1.000000e+00 4.794180e-01 5.289900e-02 ... 1.790857e+00 7.638820e-01\n",
      "   5.000880e-01]]\n",
      "\n",
      " [[1.000000e+00 1.067580e-01 8.150000e-03 ... 3.503700e-02 1.198600e-02\n",
      "   5.478000e-03]\n",
      "  [1.000000e+00 5.794000e-02 3.309600e-02 ... 5.799200e-02 1.644600e-02\n",
      "   3.224600e-02]\n",
      "  [1.000000e+00 5.794000e-02 3.309600e-02 ... 5.799200e-02 1.644600e-02\n",
      "   3.224600e-02]\n",
      "  ...\n",
      "  [1.000000e+00 2.201480e+00 7.573440e-01 ... 6.428406e+00 3.206801e+00\n",
      "   2.239880e+00]\n",
      "  [1.000000e+00 2.201480e+00 7.573440e-01 ... 6.428406e+00 3.206801e+00\n",
      "   2.239880e+00]\n",
      "  [1.000000e+00 2.201480e+00 7.573440e-01 ... 6.428406e+00 3.206801e+00\n",
      "   2.239880e+00]]\n",
      "\n",
      " ...\n",
      "\n",
      " [[1.000000e+00 3.807968e+00 2.463388e+00 ... 3.249641e+00 7.819450e-01\n",
      "   8.470930e-01]\n",
      "  [1.000000e+00 3.807968e+00 2.463388e+00 ... 3.249641e+00 7.819450e-01\n",
      "   8.470930e-01]\n",
      "  [1.000000e+00 3.807968e+00 2.463388e+00 ... 3.249641e+00 7.819450e-01\n",
      "   8.470930e-01]\n",
      "  ...\n",
      "  [1.000000e+00 7.201700e-02 5.458500e-02 ... 1.006040e-01 7.738800e-02\n",
      "   3.922000e-02]\n",
      "  [1.000000e+00 1.716570e-01 2.531650e-01 ... 5.626660e-01 1.098410e-01\n",
      "   1.804800e-01]\n",
      "  [1.000000e+00 1.716570e-01 2.531650e-01 ... 5.626660e-01 1.098410e-01\n",
      "   1.804800e-01]]\n",
      "\n",
      " [[1.000000e+00 2.661470e-01 3.933540e-01 ... 5.172300e-01 6.026060e-01\n",
      "   2.975370e-01]\n",
      "  [1.000000e+00 6.002700e-01 9.796900e-02 ... 1.978390e-01 2.268700e-01\n",
      "   1.995790e-01]\n",
      "  [1.000000e+00 6.002700e-01 9.796900e-02 ... 1.978390e-01 2.268700e-01\n",
      "   1.995790e-01]\n",
      "  ...\n",
      "  [1.000000e+00 1.639338e+00 6.553170e-01 ... 2.610044e+00 1.261366e+00\n",
      "   1.695263e+00]\n",
      "  [1.000000e+00 1.639338e+00 6.553170e-01 ... 2.610044e+00 1.261366e+00\n",
      "   1.695263e+00]\n",
      "  [1.000000e+00 4.214193e+00 7.372000e-01 ... 3.100778e+00 1.857421e+00\n",
      "   1.439728e+00]]\n",
      "\n",
      " [[1.000000e+00 2.548820e-01 4.357950e-01 ... 2.731620e-01 1.904000e-01\n",
      "   8.322900e-02]\n",
      "  [1.000000e+00 5.346200e-02 2.029100e-02 ... 6.419500e-02 2.225800e-02\n",
      "   1.949900e-02]\n",
      "  [1.000000e+00 5.346200e-02 2.029100e-02 ... 6.419500e-02 2.225800e-02\n",
      "   1.949900e-02]\n",
      "  ...\n",
      "  [1.000000e+00 7.087520e-01 4.935010e-01 ... 8.759100e-01 6.762560e-01\n",
      "   4.772960e-01]\n",
      "  [1.000000e+00 7.087520e-01 4.935010e-01 ... 8.759100e-01 6.762560e-01\n",
      "   4.772960e-01]\n",
      "  [1.000000e+00 6.329570e-01 2.748300e-02 ... 2.756800e-01 4.468800e-01\n",
      "   1.449380e-01]]]\n",
      "[0. 1. 0. ... 0. 1. 0.]\n"
     ]
    }
   ],
   "source": [
    "print(dftrain.shape)\n",
    "print(dftrainlabels.shape)\n",
    "print(dftrain)\n",
    "print(dftrainlabels)"
   ]
  },
  {
   "cell_type": "code",
   "execution_count": 194,
   "metadata": {},
   "outputs": [
    {
     "name": "stdout",
     "output_type": "stream",
     "text": [
      "(3600, 900, 8)\n",
      "(3600,)\n",
      "[[[1.       0.059297 0.020334 ... 0.034427 0.027672 0.010734]\n",
      "  [1.       0.288129 0.058108 ... 0.162441 0.08683  0.028186]\n",
      "  [1.       0.288129 0.058108 ... 0.162441 0.08683  0.028186]\n",
      "  ...\n",
      "  [1.       0.066271 0.031542 ... 0.065743 0.037426 0.029351]\n",
      "  [1.       0.266998 0.129318 ... 0.38657  0.157538 0.060398]\n",
      "  [1.       0.266998 0.129318 ... 0.38657  0.157538 0.060398]]\n",
      "\n",
      " [[1.       0.288129 0.058108 ... 0.162441 0.08683  0.028186]\n",
      "  [1.       0.288129 0.058108 ... 0.162441 0.08683  0.028186]\n",
      "  [1.       0.288129 0.058108 ... 0.162441 0.08683  0.028186]\n",
      "  ...\n",
      "  [1.       0.266998 0.129318 ... 0.38657  0.157538 0.060398]\n",
      "  [1.       0.266998 0.129318 ... 0.38657  0.157538 0.060398]\n",
      "  [1.       0.266998 0.129318 ... 0.38657  0.157538 0.060398]]\n",
      "\n",
      " [[1.       0.288129 0.058108 ... 0.162441 0.08683  0.028186]\n",
      "  [1.       0.288129 0.058108 ... 0.162441 0.08683  0.028186]\n",
      "  [1.       0.288129 0.058108 ... 0.162441 0.08683  0.028186]\n",
      "  ...\n",
      "  [1.       0.266998 0.129318 ... 0.38657  0.157538 0.060398]\n",
      "  [1.       0.266998 0.129318 ... 0.38657  0.157538 0.060398]\n",
      "  [1.       0.266998 0.129318 ... 0.38657  0.157538 0.060398]]\n",
      "\n",
      " ...\n",
      "\n",
      " [[1.       2.605624 0.15739  ... 0.596198 0.337075 0.20237 ]\n",
      "  [1.       1.59252  4.185845 ... 2.112563 0.683071 0.821671]\n",
      "  [1.       1.59252  4.185845 ... 2.112563 0.683071 0.821671]\n",
      "  ...\n",
      "  [1.       0.978712 0.207823 ... 0.464077 0.466472 0.340607]\n",
      "  [1.       0.978712 0.207823 ... 0.464077 0.466472 0.340607]\n",
      "  [1.       0.193527 0.410979 ... 0.499722 0.374073 0.171458]]\n",
      "\n",
      " [[1.       1.59252  4.185845 ... 2.112563 0.683071 0.821671]\n",
      "  [1.       1.59252  4.185845 ... 2.112563 0.683071 0.821671]\n",
      "  [1.       1.59252  4.185845 ... 2.112563 0.683071 0.821671]\n",
      "  ...\n",
      "  [1.       0.978712 0.207823 ... 0.464077 0.466472 0.340607]\n",
      "  [1.       0.193527 0.410979 ... 0.499722 0.374073 0.171458]\n",
      "  [1.       0.193527 0.410979 ... 0.499722 0.374073 0.171458]]\n",
      "\n",
      " [[1.       1.59252  4.185845 ... 2.112563 0.683071 0.821671]\n",
      "  [1.       1.59252  4.185845 ... 2.112563 0.683071 0.821671]\n",
      "  [1.       1.198376 2.909016 ... 4.854491 2.695061 1.489228]\n",
      "  ...\n",
      "  [1.       0.193527 0.410979 ... 0.499722 0.374073 0.171458]\n",
      "  [1.       0.193527 0.410979 ... 0.499722 0.374073 0.171458]\n",
      "  [1.       0.193527 0.410979 ... 0.499722 0.374073 0.171458]]]\n",
      "[0. 0. 0. ... 1. 1. 1.]\n"
     ]
    }
   ],
   "source": [
    "dftest = np.concatenate((dfAwake_test, dfDrowsy_test))\n",
    "dftestlabels =np.concatenate((dfAwake_testLabels, dfDrowsy_testLabels))\n",
    "print(dftest.shape)\n",
    "print(dftestlabels.shape)\n",
    "print(dftest)\n",
    "print(dftestlabels)"
   ]
  },
  {
   "cell_type": "code",
   "execution_count": 195,
   "metadata": {},
   "outputs": [
    {
     "name": "stdout",
     "output_type": "stream",
     "text": [
      "(3600, 900, 8)\n",
      "(3600,)\n",
      "(7200, 900, 8)\n",
      "(7200,)\n"
     ]
    }
   ],
   "source": [
    "print(dftest.shape)\n",
    "print(dftestlabels.shape)\n",
    "print(dftrain.shape)\n",
    "print(dftrainlabels.shape)"
   ]
  },
  {
   "attachments": {},
   "cell_type": "markdown",
   "metadata": {},
   "source": [
    "### Set input and output dimensions"
   ]
  },
  {
   "cell_type": "code",
   "execution_count": 196,
   "metadata": {},
   "outputs": [
    {
     "name": "stdout",
     "output_type": "stream",
     "text": [
      "dftrain shape: (7200, 900, 8)\n",
      "input_shape: 7200\n"
     ]
    }
   ],
   "source": [
    "input_shape = 900*8\n",
    "num_classes = 2\n",
    "# dftrain = dftrain.reshape(dftrain.shape[0],input_shape)\n",
    "print('dftrain shape:', dftrain.shape)\n",
    "print('input_shape:', input_shape)"
   ]
  },
  {
   "cell_type": "code",
   "execution_count": 197,
   "metadata": {},
   "outputs": [],
   "source": [
    "dftrain = dftrain.astype('float32')\n",
    "dftrainlabels = dftrainlabels.astype('float32')"
   ]
  },
  {
   "cell_type": "code",
   "execution_count": 198,
   "metadata": {},
   "outputs": [
    {
     "name": "stdout",
     "output_type": "stream",
     "text": [
      "New dfttrainlabels shape:  [[1. 0.]\n",
      " [0. 1.]\n",
      " [1. 0.]\n",
      " ...\n",
      " [1. 0.]\n",
      " [0. 1.]\n",
      " [1. 0.]]\n"
     ]
    }
   ],
   "source": [
    "dftrainlabels_hot = np_utils.to_categorical(dftrainlabels,num_classes)\n",
    "print('New dfttrainlabels shape: ', dftrainlabels_hot)"
   ]
  },
  {
   "cell_type": "code",
   "execution_count": 199,
   "metadata": {},
   "outputs": [
    {
     "name": "stdout",
     "output_type": "stream",
     "text": [
      "New dfttrainlabels shape:  (7200, 2)\n",
      "[0. 1. 0. ... 0. 1. 0.]\n"
     ]
    }
   ],
   "source": [
    "print('New dfttrainlabels shape: ', dftrainlabels_hot.shape)\n",
    "print(dftrainlabels)"
   ]
  },
  {
   "attachments": {},
   "cell_type": "markdown",
   "metadata": {},
   "source": [
    "### Building the MODEL"
   ]
  },
  {
   "cell_type": "code",
   "execution_count": 200,
   "metadata": {},
   "outputs": [],
   "source": [
    "# model_m = Sequential()\n",
    "# # Remark: since coreml cannot accept vector shapes of complex shape like\n",
    "# # [80,3] this workaround is used in order to reshape the vector internally\n",
    "# # prior feeding it into the network\n",
    "# model_m.add(Reshape((900, 1), input_shape=(input_shape,)))\n",
    "# model_m.add(Dense(100, activation='relu'))\n",
    "# # model_m.add(BatchNormalization()) # V2 addition\n",
    "# model_m.add(Dense(100, activation='relu'))\n",
    "# # model_m.add(BatchNormalization()) # V2 addition\n",
    "# model_m.add(Dense(100, activation='relu'))\n",
    "# # model_m.add(BatchNormalization()) # V2 addition \n",
    "# model_m.add(Flatten())\n",
    "# model_m.add(Dense(num_classes, activation='softmax'))\n",
    "# print(model_m.summary())"
   ]
  },
  {
   "cell_type": "code",
   "execution_count": 201,
   "metadata": {},
   "outputs": [
    {
     "data": {
      "image/png": "[encoded data removed]",
      "text/plain": [
       "<IPython.core.display.Image object>"
      ]
     },
     "execution_count": 201,
     "metadata": {},
     "output_type": "execute_result"
    }
   ],
   "source": [
    "def make_model(input_shape):\n",
    "    input_layer = keras.layers.Input(input_shape)\n",
    "\n",
    "    conv1 = keras.layers.Conv1D(filters=64, kernel_size=3, padding=\"same\")(input_layer)\n",
    "    conv1 = keras.layers.BatchNormalization()(conv1)\n",
    "    conv1 = keras.layers.ReLU()(conv1)\n",
    "\n",
    "    # conv2 = keras.layers.Conv1D(filters=64, kernel_size=3, padding=\"same\")(conv1)\n",
    "    # conv2 = keras.layers.BatchNormalization()(conv2)\n",
    "    # conv2 = keras.layers.ReLU()(conv2)\n",
    "\n",
    "    # conv3 = keras.layers.Conv1D(filters=64, kernel_size=3, padding=\"same\")(conv2)\n",
    "    # conv3 = keras.layers.BatchNormalization()(conv3)\n",
    "    # conv3 = keras.layers.ReLU()(conv3)\n",
    "\n",
    "    gap = keras.layers.GlobalAveragePooling1D()(conv1)\n",
    "\n",
    "    output_layer = keras.layers.Dense(num_classes, activation=\"softmax\")(gap)\n",
    "\n",
    "    return keras.models.Model(inputs=input_layer, outputs=output_layer)\n",
    "\n",
    "\n",
    "model = make_model(input_shape=dftrain.shape[1:])\n",
    "keras.utils.plot_model(model, show_shapes=True)"
   ]
  },
  {
   "attachments": {},
   "cell_type": "markdown",
   "metadata": {},
   "source": [
    "### FITTING Deep neural network Model in KERAS"
   ]
  },
  {
   "cell_type": "code",
   "execution_count": 202,
   "metadata": {},
   "outputs": [],
   "source": [
    "# callbacks_list = [\n",
    "#     keras.callbacks.ModelCheckpoint(\n",
    "#         filepath='best_model.{epoch:02d}-{val_loss:.2f}.h5',\n",
    "#         monitor='val_loss', save_best_only=True),\n",
    "#     keras.callbacks.EarlyStopping(monitor='accuracy', patience=1)\n",
    "# ]\n",
    "\n",
    "\n",
    "\n",
    "# model_m.compile(loss='categorical_crossentropy',\n",
    "#                 optimizer=Adam(learning_rate=0.001), metrics=['accuracy'])\n",
    "\n",
    "# # Hyper-parameters\n",
    "# BATCH_SIZE = 400 # V3 changed to 2160\n",
    "# EPOCHS = 50\n",
    "\n",
    "\n",
    "# # Enable validation to use ModelCheckpoint and EarlyStopping callbacks.\n",
    "# # v1\n",
    "# history = model_m.fit(dftrain,\n",
    "#                       dftrainlabels_hot,\n",
    "#                       batch_size=BATCH_SIZE,\n",
    "#                       epochs=EPOCHS,\n",
    "#                       callbacks=callbacks_list,\n",
    "#                       validation_split=0.2,\n",
    "#                       verbose=1)\n",
    "\n",
    "# # # v1 completing all epochs\n",
    "# # history = model_m.fit(dftrain,\n",
    "# #                       dftrainlabels_hot,\n",
    "# #                       batch_size=BATCH_SIZE,\n",
    "# #                       epochs=EPOCHS,\n",
    "# #                       validation_split=0.2,\n",
    "# #                       verbose=1)\n",
    "\n",
    "# # v3\n",
    "# # history = model_m.fit(dftrain,\n",
    "# #                       dftrainlabels_hot,\n",
    "# #                       batch_size=BATCH_SIZE,\n",
    "# #                       epochs=EPOCHS,\n",
    "# #                       shuffle=True,\n",
    "# #                       validation_split=0.2,\n",
    "# #                       verbose=1)\n"
   ]
  },
  {
   "cell_type": "code",
   "execution_count": 203,
   "metadata": {},
   "outputs": [
    {
     "name": "stdout",
     "output_type": "stream",
     "text": [
      "Epoch 1/100\n",
      "8/8 [==============================] - 3s 340ms/step - loss: 0.6367 - sparse_categorical_accuracy: 0.6836 - val_loss: 0.6414 - val_sparse_categorical_accuracy: 0.5472 - lr: 0.0010\n",
      "Epoch 2/100\n",
      "8/8 [==============================] - 2s 312ms/step - loss: 0.5865 - sparse_categorical_accuracy: 0.7977 - val_loss: 0.6240 - val_sparse_categorical_accuracy: 0.5979 - lr: 0.0010\n",
      "Epoch 3/100\n",
      "8/8 [==============================] - 2s 307ms/step - loss: 0.5551 - sparse_categorical_accuracy: 0.7512 - val_loss: 0.6274 - val_sparse_categorical_accuracy: 0.5507 - lr: 0.0010\n",
      "Epoch 4/100\n",
      "8/8 [==============================] - 2s 310ms/step - loss: 0.5328 - sparse_categorical_accuracy: 0.7324 - val_loss: 0.6293 - val_sparse_categorical_accuracy: 0.5410 - lr: 0.0010\n",
      "Epoch 5/100\n",
      "8/8 [==============================] - 3s 319ms/step - loss: 0.5146 - sparse_categorical_accuracy: 0.7449 - val_loss: 0.6128 - val_sparse_categorical_accuracy: 0.5326 - lr: 0.0010\n",
      "Epoch 6/100\n",
      "8/8 [==============================] - 2s 309ms/step - loss: 0.4982 - sparse_categorical_accuracy: 0.7576 - val_loss: 0.5921 - val_sparse_categorical_accuracy: 0.5997 - lr: 0.0010\n",
      "Epoch 7/100\n",
      "8/8 [==============================] - 2s 308ms/step - loss: 0.4834 - sparse_categorical_accuracy: 0.7812 - val_loss: 0.5626 - val_sparse_categorical_accuracy: 0.6160 - lr: 0.0010\n",
      "Epoch 8/100\n",
      "8/8 [==============================] - 2s 310ms/step - loss: 0.4690 - sparse_categorical_accuracy: 0.8039 - val_loss: 0.5311 - val_sparse_categorical_accuracy: 0.6566 - lr: 0.0010\n",
      "Epoch 9/100\n",
      "8/8 [==============================] - 2s 309ms/step - loss: 0.4526 - sparse_categorical_accuracy: 0.8292 - val_loss: 0.4797 - val_sparse_categorical_accuracy: 0.7983 - lr: 0.0010\n",
      "Epoch 10/100\n",
      "8/8 [==============================] - 2s 302ms/step - loss: 0.4388 - sparse_categorical_accuracy: 0.8292 - val_loss: 0.4608 - val_sparse_categorical_accuracy: 0.7983 - lr: 0.0010\n",
      "Epoch 11/100\n",
      "8/8 [==============================] - 2s 311ms/step - loss: 0.4242 - sparse_categorical_accuracy: 0.8326 - val_loss: 0.4413 - val_sparse_categorical_accuracy: 0.7983 - lr: 0.0010\n",
      "Epoch 12/100\n",
      "8/8 [==============================] - 2s 312ms/step - loss: 0.4118 - sparse_categorical_accuracy: 0.8528 - val_loss: 0.4228 - val_sparse_categorical_accuracy: 0.8358 - lr: 0.0010\n",
      "Epoch 13/100\n",
      "8/8 [==============================] - 2s 316ms/step - loss: 0.4004 - sparse_categorical_accuracy: 0.8507 - val_loss: 0.4075 - val_sparse_categorical_accuracy: 0.8372 - lr: 0.0010\n",
      "Epoch 14/100\n",
      "8/8 [==============================] - 3s 319ms/step - loss: 0.3881 - sparse_categorical_accuracy: 0.8616 - val_loss: 0.3970 - val_sparse_categorical_accuracy: 0.8372 - lr: 0.0010\n",
      "Epoch 15/100\n",
      "8/8 [==============================] - 2s 314ms/step - loss: 0.3750 - sparse_categorical_accuracy: 0.8720 - val_loss: 0.3884 - val_sparse_categorical_accuracy: 0.8885 - lr: 0.0010\n",
      "Epoch 16/100\n",
      "8/8 [==============================] - 3s 320ms/step - loss: 0.3644 - sparse_categorical_accuracy: 0.8706 - val_loss: 0.3776 - val_sparse_categorical_accuracy: 0.8924 - lr: 0.0010\n",
      "Epoch 17/100\n",
      "8/8 [==============================] - 2s 304ms/step - loss: 0.3537 - sparse_categorical_accuracy: 0.8836 - val_loss: 0.3689 - val_sparse_categorical_accuracy: 0.8972 - lr: 0.0010\n",
      "Epoch 18/100\n",
      "8/8 [==============================] - 2s 310ms/step - loss: 0.3447 - sparse_categorical_accuracy: 0.8854 - val_loss: 0.3643 - val_sparse_categorical_accuracy: 0.9052 - lr: 0.0010\n",
      "Epoch 19/100\n",
      "8/8 [==============================] - 2s 311ms/step - loss: 0.3356 - sparse_categorical_accuracy: 0.8870 - val_loss: 0.3531 - val_sparse_categorical_accuracy: 0.9052 - lr: 0.0010\n",
      "Epoch 20/100\n",
      "8/8 [==============================] - 3s 324ms/step - loss: 0.3273 - sparse_categorical_accuracy: 0.8917 - val_loss: 0.3521 - val_sparse_categorical_accuracy: 0.9181 - lr: 0.0010\n",
      "Epoch 21/100\n",
      "8/8 [==============================] - 3s 325ms/step - loss: 0.3209 - sparse_categorical_accuracy: 0.8873 - val_loss: 0.3420 - val_sparse_categorical_accuracy: 0.9191 - lr: 0.0010\n",
      "Epoch 22/100\n",
      "8/8 [==============================] - 3s 331ms/step - loss: 0.3155 - sparse_categorical_accuracy: 0.8958 - val_loss: 0.3512 - val_sparse_categorical_accuracy: 0.9038 - lr: 0.0010\n",
      "Epoch 23/100\n",
      "8/8 [==============================] - 2s 306ms/step - loss: 0.3083 - sparse_categorical_accuracy: 0.8900 - val_loss: 0.3247 - val_sparse_categorical_accuracy: 0.9191 - lr: 0.0010\n",
      "Epoch 24/100\n",
      "8/8 [==============================] - 2s 306ms/step - loss: 0.3010 - sparse_categorical_accuracy: 0.8942 - val_loss: 0.3250 - val_sparse_categorical_accuracy: 0.9191 - lr: 0.0010\n",
      "Epoch 25/100\n",
      "8/8 [==============================] - 2s 314ms/step - loss: 0.2961 - sparse_categorical_accuracy: 0.8882 - val_loss: 0.3163 - val_sparse_categorical_accuracy: 0.9191 - lr: 0.0010\n",
      "Epoch 26/100\n",
      "8/8 [==============================] - 2s 308ms/step - loss: 0.2900 - sparse_categorical_accuracy: 0.9051 - val_loss: 0.3161 - val_sparse_categorical_accuracy: 0.9191 - lr: 0.0010\n",
      "Epoch 27/100\n",
      "8/8 [==============================] - 2s 309ms/step - loss: 0.2849 - sparse_categorical_accuracy: 0.8903 - val_loss: 0.3018 - val_sparse_categorical_accuracy: 0.9191 - lr: 0.0010\n",
      "Epoch 28/100\n",
      "8/8 [==============================] - 2s 305ms/step - loss: 0.2779 - sparse_categorical_accuracy: 0.8998 - val_loss: 0.3045 - val_sparse_categorical_accuracy: 0.9191 - lr: 0.0010\n",
      "Epoch 29/100\n",
      "8/8 [==============================] - 2s 305ms/step - loss: 0.2740 - sparse_categorical_accuracy: 0.8905 - val_loss: 0.2917 - val_sparse_categorical_accuracy: 0.9191 - lr: 0.0010\n",
      "Epoch 30/100\n",
      "8/8 [==============================] - 2s 307ms/step - loss: 0.2673 - sparse_categorical_accuracy: 0.9021 - val_loss: 0.2979 - val_sparse_categorical_accuracy: 0.9191 - lr: 0.0010\n",
      "Epoch 31/100\n",
      "8/8 [==============================] - 2s 314ms/step - loss: 0.2631 - sparse_categorical_accuracy: 0.8970 - val_loss: 0.2803 - val_sparse_categorical_accuracy: 0.9191 - lr: 0.0010\n",
      "Epoch 32/100\n",
      "8/8 [==============================] - 2s 306ms/step - loss: 0.2599 - sparse_categorical_accuracy: 0.8961 - val_loss: 0.2744 - val_sparse_categorical_accuracy: 0.9191 - lr: 0.0010\n",
      "Epoch 33/100\n",
      "8/8 [==============================] - 2s 302ms/step - loss: 0.2528 - sparse_categorical_accuracy: 0.8958 - val_loss: 0.2681 - val_sparse_categorical_accuracy: 0.9191 - lr: 0.0010\n",
      "Epoch 34/100\n",
      "8/8 [==============================] - 2s 309ms/step - loss: 0.2524 - sparse_categorical_accuracy: 0.9035 - val_loss: 0.2657 - val_sparse_categorical_accuracy: 0.9191 - lr: 0.0010\n",
      "Epoch 35/100\n",
      "8/8 [==============================] - 2s 304ms/step - loss: 0.2460 - sparse_categorical_accuracy: 0.9014 - val_loss: 0.2593 - val_sparse_categorical_accuracy: 0.9017 - lr: 0.0010\n",
      "Epoch 36/100\n",
      "8/8 [==============================] - 2s 318ms/step - loss: 0.2418 - sparse_categorical_accuracy: 0.9037 - val_loss: 0.2517 - val_sparse_categorical_accuracy: 0.9191 - lr: 0.0010\n",
      "Epoch 37/100\n",
      "8/8 [==============================] - 2s 305ms/step - loss: 0.2374 - sparse_categorical_accuracy: 0.9007 - val_loss: 0.2479 - val_sparse_categorical_accuracy: 0.9122 - lr: 0.0010\n",
      "Epoch 38/100\n",
      "8/8 [==============================] - 2s 304ms/step - loss: 0.2342 - sparse_categorical_accuracy: 0.8951 - val_loss: 0.2435 - val_sparse_categorical_accuracy: 0.9191 - lr: 0.0010\n",
      "Epoch 39/100\n",
      "8/8 [==============================] - 2s 300ms/step - loss: 0.2319 - sparse_categorical_accuracy: 0.9062 - val_loss: 0.2418 - val_sparse_categorical_accuracy: 0.9191 - lr: 0.0010\n",
      "Epoch 40/100\n",
      "8/8 [==============================] - 2s 309ms/step - loss: 0.2323 - sparse_categorical_accuracy: 0.9236 - val_loss: 0.2559 - val_sparse_categorical_accuracy: 0.8635 - lr: 0.0010\n",
      "Epoch 41/100\n",
      "8/8 [==============================] - 2s 312ms/step - loss: 0.2347 - sparse_categorical_accuracy: 0.9245 - val_loss: 0.2300 - val_sparse_categorical_accuracy: 0.9191 - lr: 0.0010\n",
      "Epoch 42/100\n",
      "8/8 [==============================] - 2s 303ms/step - loss: 0.2278 - sparse_categorical_accuracy: 0.9120 - val_loss: 0.2292 - val_sparse_categorical_accuracy: 0.9191 - lr: 0.0010\n",
      "Epoch 43/100\n",
      "8/8 [==============================] - 2s 308ms/step - loss: 0.2269 - sparse_categorical_accuracy: 0.9174 - val_loss: 0.2311 - val_sparse_categorical_accuracy: 0.9146 - lr: 0.0010\n",
      "Epoch 44/100\n",
      "8/8 [==============================] - 2s 306ms/step - loss: 0.2208 - sparse_categorical_accuracy: 0.9164 - val_loss: 0.2274 - val_sparse_categorical_accuracy: 0.9191 - lr: 0.0010\n",
      "Epoch 45/100\n",
      "8/8 [==============================] - 2s 309ms/step - loss: 0.2168 - sparse_categorical_accuracy: 0.9211 - val_loss: 0.2203 - val_sparse_categorical_accuracy: 0.9191 - lr: 0.0010\n",
      "Epoch 46/100\n",
      "8/8 [==============================] - 2s 319ms/step - loss: 0.2119 - sparse_categorical_accuracy: 0.9118 - val_loss: 0.2192 - val_sparse_categorical_accuracy: 0.9191 - lr: 0.0010\n",
      "Epoch 47/100\n",
      "8/8 [==============================] - 2s 310ms/step - loss: 0.2130 - sparse_categorical_accuracy: 0.9264 - val_loss: 0.2138 - val_sparse_categorical_accuracy: 0.9191 - lr: 0.0010\n",
      "Epoch 48/100\n",
      "8/8 [==============================] - 2s 313ms/step - loss: 0.2059 - sparse_categorical_accuracy: 0.9312 - val_loss: 0.2098 - val_sparse_categorical_accuracy: 0.9080 - lr: 0.0010\n",
      "Epoch 49/100\n",
      "8/8 [==============================] - 2s 313ms/step - loss: 0.2024 - sparse_categorical_accuracy: 0.9308 - val_loss: 0.2044 - val_sparse_categorical_accuracy: 0.9191 - lr: 0.0010\n",
      "Epoch 50/100\n",
      "8/8 [==============================] - 2s 310ms/step - loss: 0.1986 - sparse_categorical_accuracy: 0.9308 - val_loss: 0.2013 - val_sparse_categorical_accuracy: 0.9191 - lr: 0.0010\n",
      "Epoch 51/100\n",
      "8/8 [==============================] - 2s 308ms/step - loss: 0.1976 - sparse_categorical_accuracy: 0.9414 - val_loss: 0.2031 - val_sparse_categorical_accuracy: 0.8986 - lr: 0.0010\n",
      "Epoch 52/100\n",
      "8/8 [==============================] - 2s 312ms/step - loss: 0.1963 - sparse_categorical_accuracy: 0.9410 - val_loss: 0.1950 - val_sparse_categorical_accuracy: 0.9191 - lr: 0.0010\n",
      "Epoch 53/100\n",
      "8/8 [==============================] - 2s 305ms/step - loss: 0.1935 - sparse_categorical_accuracy: 0.9234 - val_loss: 0.2017 - val_sparse_categorical_accuracy: 0.8899 - lr: 0.0010\n",
      "Epoch 54/100\n",
      "8/8 [==============================] - 2s 310ms/step - loss: 0.1927 - sparse_categorical_accuracy: 0.9331 - val_loss: 0.1906 - val_sparse_categorical_accuracy: 0.9191 - lr: 0.0010\n",
      "Epoch 55/100\n",
      "8/8 [==============================] - 2s 300ms/step - loss: 0.1942 - sparse_categorical_accuracy: 0.9368 - val_loss: 0.2170 - val_sparse_categorical_accuracy: 0.8743 - lr: 0.0010\n",
      "Epoch 56/100\n",
      "8/8 [==============================] - 2s 308ms/step - loss: 0.1889 - sparse_categorical_accuracy: 0.9301 - val_loss: 0.1865 - val_sparse_categorical_accuracy: 0.9212 - lr: 0.0010\n",
      "Epoch 57/100\n",
      "8/8 [==============================] - 2s 308ms/step - loss: 0.1830 - sparse_categorical_accuracy: 0.9611 - val_loss: 0.1890 - val_sparse_categorical_accuracy: 0.9556 - lr: 0.0010\n",
      "Epoch 58/100\n",
      "8/8 [==============================] - 2s 307ms/step - loss: 0.1854 - sparse_categorical_accuracy: 0.9345 - val_loss: 0.1871 - val_sparse_categorical_accuracy: 0.9517 - lr: 0.0010\n",
      "Epoch 59/100\n",
      "8/8 [==============================] - 3s 320ms/step - loss: 0.1811 - sparse_categorical_accuracy: 0.9451 - val_loss: 0.1809 - val_sparse_categorical_accuracy: 0.9587 - lr: 0.0010\n",
      "Epoch 60/100\n",
      "8/8 [==============================] - 2s 300ms/step - loss: 0.1771 - sparse_categorical_accuracy: 0.9516 - val_loss: 0.1819 - val_sparse_categorical_accuracy: 0.9521 - lr: 0.0010\n",
      "Epoch 61/100\n",
      "8/8 [==============================] - 2s 310ms/step - loss: 0.1760 - sparse_categorical_accuracy: 0.9449 - val_loss: 0.1741 - val_sparse_categorical_accuracy: 0.9889 - lr: 0.0010\n",
      "Epoch 62/100\n",
      "8/8 [==============================] - 2s 305ms/step - loss: 0.1764 - sparse_categorical_accuracy: 0.9505 - val_loss: 0.1721 - val_sparse_categorical_accuracy: 0.9802 - lr: 0.0010\n",
      "Epoch 63/100\n",
      "8/8 [==============================] - 2s 309ms/step - loss: 0.1688 - sparse_categorical_accuracy: 0.9690 - val_loss: 0.1697 - val_sparse_categorical_accuracy: 0.9889 - lr: 0.0010\n",
      "Epoch 64/100\n",
      "8/8 [==============================] - 2s 302ms/step - loss: 0.1689 - sparse_categorical_accuracy: 0.9690 - val_loss: 0.1700 - val_sparse_categorical_accuracy: 0.9750 - lr: 0.0010\n",
      "Epoch 65/100\n",
      "8/8 [==============================] - 2s 309ms/step - loss: 0.1692 - sparse_categorical_accuracy: 0.9500 - val_loss: 0.1659 - val_sparse_categorical_accuracy: 0.9844 - lr: 0.0010\n",
      "Epoch 66/100\n",
      "8/8 [==============================] - 3s 320ms/step - loss: 0.1706 - sparse_categorical_accuracy: 0.9417 - val_loss: 0.1788 - val_sparse_categorical_accuracy: 0.9347 - lr: 0.0010\n",
      "Epoch 67/100\n",
      "8/8 [==============================] - 2s 311ms/step - loss: 0.1665 - sparse_categorical_accuracy: 0.9396 - val_loss: 0.1664 - val_sparse_categorical_accuracy: 0.9191 - lr: 0.0010\n",
      "Epoch 68/100\n",
      "8/8 [==============================] - 2s 313ms/step - loss: 0.1623 - sparse_categorical_accuracy: 0.9618 - val_loss: 0.1980 - val_sparse_categorical_accuracy: 0.9139 - lr: 0.0010\n",
      "Epoch 69/100\n",
      "8/8 [==============================] - 2s 309ms/step - loss: 0.1616 - sparse_categorical_accuracy: 0.9576 - val_loss: 0.1993 - val_sparse_categorical_accuracy: 0.9187 - lr: 0.0010\n",
      "Epoch 70/100\n",
      "8/8 [==============================] - 2s 313ms/step - loss: 0.1599 - sparse_categorical_accuracy: 0.9655 - val_loss: 0.2030 - val_sparse_categorical_accuracy: 0.9125 - lr: 0.0010\n",
      "Epoch 71/100\n",
      "8/8 [==============================] - 3s 316ms/step - loss: 0.1541 - sparse_categorical_accuracy: 0.9843 - val_loss: 0.2014 - val_sparse_categorical_accuracy: 0.9135 - lr: 5.0000e-04\n",
      "Epoch 72/100\n",
      "8/8 [==============================] - 2s 311ms/step - loss: 0.1546 - sparse_categorical_accuracy: 0.9720 - val_loss: 0.2078 - val_sparse_categorical_accuracy: 0.9125 - lr: 5.0000e-04\n",
      "Epoch 73/100\n",
      "8/8 [==============================] - 2s 308ms/step - loss: 0.1548 - sparse_categorical_accuracy: 0.9595 - val_loss: 0.2072 - val_sparse_categorical_accuracy: 0.9111 - lr: 5.0000e-04\n",
      "Epoch 74/100\n",
      "8/8 [==============================] - 2s 246ms/step - loss: 0.1526 - sparse_categorical_accuracy: 0.9824 - val_loss: 0.2102 - val_sparse_categorical_accuracy: 0.9090 - lr: 5.0000e-04\n",
      "Epoch 75/100\n",
      "8/8 [==============================] - 2s 242ms/step - loss: 0.1544 - sparse_categorical_accuracy: 0.9699 - val_loss: 0.2009 - val_sparse_categorical_accuracy: 0.9111 - lr: 5.0000e-04\n",
      "Epoch 76/100\n",
      "8/8 [==============================] - 2s 240ms/step - loss: 0.1586 - sparse_categorical_accuracy: 0.9586 - val_loss: 0.1880 - val_sparse_categorical_accuracy: 0.9170 - lr: 2.5000e-04\n",
      "Epoch 77/100\n",
      "8/8 [==============================] - 2s 239ms/step - loss: 0.1522 - sparse_categorical_accuracy: 0.9734 - val_loss: 0.2006 - val_sparse_categorical_accuracy: 0.9125 - lr: 2.5000e-04\n",
      "Epoch 77: early stopping\n"
     ]
    }
   ],
   "source": [
    "epochs = 100\n",
    "batch_size = 540\n",
    "\n",
    "callbacks = [\n",
    "    keras.callbacks.ModelCheckpoint(\n",
    "        \"best_model(eeg).h5\", save_best_only=True, monitor=\"val_loss\"\n",
    "    ),\n",
    "    keras.callbacks.ReduceLROnPlateau(\n",
    "        monitor=\"val_loss\", factor=0.5, patience=5, min_lr=0.0001\n",
    "    ),\n",
    "    keras.callbacks.EarlyStopping(monitor=\"val_loss\", patience=12, verbose=1),\n",
    "]\n",
    "model.compile(\n",
    "    optimizer=\"adam\",\n",
    "    loss=\"sparse_categorical_crossentropy\",\n",
    "    metrics=[\"sparse_categorical_accuracy\"],\n",
    ")\n",
    "history = model.fit(\n",
    "    dftrain,\n",
    "    dftrainlabels,\n",
    "    batch_size=batch_size,\n",
    "    epochs=epochs,\n",
    "    callbacks=callbacks,\n",
    "    validation_split=0.4,\n",
    "    verbose=1,\n",
    ")"
   ]
  },
  {
   "cell_type": "code",
   "execution_count": 204,
   "metadata": {},
   "outputs": [
    {
     "data": {
      "image/png": "[encoded data removed]",
      "text/plain": [
       "<Figure size 640x480 with 1 Axes>"
      ]
     },
     "metadata": {},
     "output_type": "display_data"
    },
    {
     "name": "stdout",
     "output_type": "stream",
     "text": [
      "225/225 [==============================] - 1s 3ms/step\n",
      "              precision    recall  f1-score   support\n",
      "\n",
      "         0.0       0.85      1.00      0.92      3600\n",
      "         1.0       1.00      0.82      0.90      3600\n",
      "\n",
      "    accuracy                           0.91      7200\n",
      "   macro avg       0.92      0.91      0.91      7200\n",
      "weighted avg       0.92      0.91      0.91      7200\n",
      "\n"
     ]
    }
   ],
   "source": [
    "# plt.figure(figsize=(6, 4))\n",
    "# plt.plot(history.history['accuracy'], 'r', label='Accuracy of training data')\n",
    "# plt.plot(history.history['val_accuracy'], 'b', label='Accuracy of validation data')\n",
    "# plt.plot(history.history['loss'], 'r--', label='Loss of training data')\n",
    "# plt.plot(history.history['val_loss'], 'b--', label='Loss of validation data')\n",
    "# plt.title('Model Accuracy and Loss')\n",
    "# plt.ylabel('Accuracy and Loss')\n",
    "# plt.xlabel('Training Epoch')\n",
    "# plt.ylim(0)\n",
    "# plt.legend()\n",
    "# plt.show()\n",
    "\n",
    "metric = \"sparse_categorical_accuracy\"\n",
    "plt.figure()\n",
    "plt.plot(history.history[metric])\n",
    "plt.plot(history.history[\"val_\" + metric])\n",
    "plt.plot(history.history['loss'], 'r--', label='Loss of training data')\n",
    "plt.plot(history.history['val_loss'], 'b--', label='Loss of validation data')\n",
    "plt.title(\"model \" + metric)\n",
    "plt.ylabel(metric, fontsize=\"large\")\n",
    "plt.xlabel(\"epoch\", fontsize=\"large\")\n",
    "plt.legend([\"train\", \"val\"], loc=\"best\")\n",
    "plt.show()\n",
    "plt.close()\n",
    "\n",
    "# Print confusion matrix for training data\n",
    "y_pred_train = model.predict(dftrain)\n",
    "# Take the class with the highest probability from the train predictions\n",
    "max_y_pred_train = np.argmax(y_pred_train, axis=1)\n",
    "print(classification_report(dftrainlabels, max_y_pred_train))"
   ]
  },
  {
   "attachments": {},
   "cell_type": "markdown",
   "metadata": {},
   "source": [
    "### Checking against Testing Data"
   ]
  },
  {
   "cell_type": "code",
   "execution_count": 205,
   "metadata": {},
   "outputs": [],
   "source": [
    "\n",
    "# Set input_shape / reshape for Keras\n",
    "# dftest = dftest.reshape(dftest.shape[0], input_shape)\n",
    "\n",
    "dftest = dftest.astype('float32')\n",
    "dftestlabels = dftestlabels.astype('float32')\n",
    "\n",
    "dftestlabels_hot = np_utils.to_categorical(dftestlabels, num_classes)\n"
   ]
  },
  {
   "cell_type": "code",
   "execution_count": 206,
   "metadata": {},
   "outputs": [
    {
     "name": "stdout",
     "output_type": "stream",
     "text": [
      "New dfttrainlabels shape:  [[1. 0.]\n",
      " [1. 0.]\n",
      " [1. 0.]\n",
      " ...\n",
      " [0. 1.]\n",
      " [0. 1.]\n",
      " [0. 1.]]\n",
      "New dfttrainlabels shape:  (3600,)\n",
      "New dfttrainlabels shape:  [0. 0. 0. ... 1. 1. 1.]\n"
     ]
    }
   ],
   "source": [
    "print('New dfttrainlabels shape: ', dftestlabels_hot)\n",
    "print('New dfttrainlabels shape: ', dftestlabels.shape)\n",
    "print('New dfttrainlabels shape: ', dftestlabels)"
   ]
  },
  {
   "cell_type": "code",
   "execution_count": 207,
   "metadata": {},
   "outputs": [],
   "source": [
    "# score = model_m.evaluate(dftest, dftestlabels_hot, verbose=1)\n",
    "\n",
    "# print('\\nAccuracy on test data: %0.2f' % score[1])\n",
    "# print('\\nLoss on test data: %0.2f' % score[0])"
   ]
  },
  {
   "cell_type": "code",
   "execution_count": 208,
   "metadata": {},
   "outputs": [],
   "source": [
    "LABELS = ['Awake','Drowsy']"
   ]
  },
  {
   "cell_type": "code",
   "execution_count": 209,
   "metadata": {},
   "outputs": [],
   "source": [
    "# metric = \"sparse_categorical_accuracy\"\n",
    "# plt.figure()\n",
    "# plt.plot(history.history[metric])\n",
    "# plt.plot(history.history[\"val_\" + metric])\n",
    "# plt.title(\"model \" + metric)\n",
    "# plt.ylabel(metric, fontsize=\"large\")\n",
    "# plt.xlabel(\"epoch\", fontsize=\"large\")\n",
    "# plt.legend([\"train\", \"val\"], loc=\"best\")\n",
    "# plt.show()\n",
    "# plt.close()"
   ]
  },
  {
   "cell_type": "code",
   "execution_count": 210,
   "metadata": {},
   "outputs": [
    {
     "name": "stdout",
     "output_type": "stream",
     "text": [
      "113/113 [==============================] - 0s 3ms/step - loss: 0.3322 - sparse_categorical_accuracy: 0.9167\n",
      "Test accuracy 0.9166666865348816\n",
      "Test loss 0.3322135806083679\n"
     ]
    }
   ],
   "source": [
    "model = keras.models.load_model(\"best_model(eeg).h5\")\n",
    "\n",
    "test_loss, test_acc = model.evaluate(dftest, dftestlabels,verbose=1)\n",
    "\n",
    "print(\"Test accuracy\", test_acc)\n",
    "print(\"Test loss\", test_loss)"
   ]
  },
  {
   "cell_type": "code",
   "execution_count": 211,
   "metadata": {},
   "outputs": [],
   "source": [
    "# # Print confusion matrix for training data\n",
    "# y_pred_train = model.predict(dftest)\n",
    "# # Take the class with the highest probability from the train predictions\n",
    "# max_y_pred_train = np.argmax(y_pred_train, axis=1)\n",
    "# print(classification_report(dftestlabels, max_y_pred_train))"
   ]
  },
  {
   "cell_type": "code",
   "execution_count": 212,
   "metadata": {},
   "outputs": [
    {
     "name": "stdout",
     "output_type": "stream",
     "text": [
      "113/113 [==============================] - 0s 3ms/step\n"
     ]
    },
    {
     "data": {
      "image/png": "[encoded data removed]",
      "text/plain": [
       "<Figure size 600x400 with 2 Axes>"
      ]
     },
     "metadata": {},
     "output_type": "display_data"
    },
    {
     "name": "stdout",
     "output_type": "stream",
     "text": [
      "              precision    recall  f1-score   support\n",
      "\n",
      "           0       1.00      0.83      0.91      1800\n",
      "           1       0.86      1.00      0.92      1800\n",
      "\n",
      "    accuracy                           0.92      3600\n",
      "   macro avg       0.93      0.92      0.92      3600\n",
      "weighted avg       0.93      0.92      0.92      3600\n",
      "\n"
     ]
    }
   ],
   "source": [
    "def show_confusion_matrix(validations, predictions):\n",
    "\n",
    "    matrix = metrics.confusion_matrix(validations, predictions)\n",
    "    plt.figure(figsize=(6, 4))\n",
    "    sns.heatmap(matrix,\n",
    "                cmap='coolwarm',\n",
    "                linecolor='white',\n",
    "                linewidths=1,\n",
    "                xticklabels=LABELS,\n",
    "                yticklabels=LABELS,\n",
    "                annot=True,\n",
    "                fmt='d')\n",
    "    plt.title('Confusion Matrix')\n",
    "    plt.ylabel('True Label')\n",
    "    plt.xlabel('Predicted Label')\n",
    "    plt.show()\n",
    "\n",
    "y_pred_test = model.predict(dftest)\n",
    "# Take the class with the highest probability from the test predictions\n",
    "max_y_pred_test = np.argmax(y_pred_test, axis=1)\n",
    "max_y_test = np.argmax(dftestlabels_hot, axis=1)\n",
    "\n",
    "show_confusion_matrix(max_y_test, max_y_pred_test)\n",
    "\n",
    "print(classification_report(max_y_test, max_y_pred_test))"
   ]
  },
  {
   "cell_type": "code",
   "execution_count": 213,
   "metadata": {},
   "outputs": [
    {
     "name": "stdout",
     "output_type": "stream",
     "text": [
      "[[0.8011835  0.1988164 ]\n",
      " [0.80175424 0.19824573]\n",
      " [0.8021337  0.19786635]\n",
      " ...\n",
      " [0.3273265  0.6726735 ]\n",
      " [0.32502058 0.67497945]\n",
      " [0.3143673  0.6856327 ]]\n"
     ]
    }
   ],
   "source": [
    "print(y_pred_test)"
   ]
  }
 ],
 "metadata": {
  "kernelspec": {
   "display_name": "Python 3",
   "language": "python",
   "name": "python3"
  },
  "language_info": {
   "codemirror_mode": {
    "name": "ipython",
    "version": 3
   },
   "file_extension": ".py",
   "mimetype": "text/x-python",
   "name": "python",
   "nbconvert_exporter": "python",
   "pygments_lexer": "ipython3",
   "version": "3.10.8 (tags/v3.10.8:aaaf517, Oct 11 2022, 16:50:30) [MSC v.1933 64 bit (AMD64)]"
  },
  "orig_nbformat": 4,
  "vscode": {
   "interpreter": {
    "hash": "26de051ba29f2982a8de78e945f0abaf191376122a1563185a90213a26c5da77"
   }
  }
 },
 "nbformat": 4,
 "nbformat_minor": 2
}
