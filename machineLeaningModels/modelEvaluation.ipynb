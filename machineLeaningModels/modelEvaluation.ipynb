{
 "cells": [
  {
   "cell_type": "code",
   "execution_count": 1,
   "metadata": {},
   "outputs": [],
   "source": [
    "from __future__ import print_function\n",
    "from matplotlib import pyplot as plt\n",
    "import numpy as np\n",
    "import pandas as pd\n",
    "import seaborn as sns\n",
    "from scipy import stats\n",
    "from IPython.display import display, HTML\n",
    "\n",
    "from sklearn import metrics\n",
    "from sklearn.metrics import classification_report\n",
    "from sklearn import preprocessing\n",
    "\n",
    "import keras\n",
    "from keras.models import Sequential\n",
    "from keras.layers import Dense, Dropout, Flatten, Reshape\n",
    "from keras.layers import Conv2D, MaxPooling2D\n",
    "from keras.utils import np_utils\n",
    "from keras.layers import BatchNormalization\n",
    "from keras.optimizers import Adam\n",
    "from keras import backend as K"
   ]
  },
  {
   "cell_type": "code",
   "execution_count": 2,
   "metadata": {},
   "outputs": [],
   "source": [
    "#7200 datasets\n",
    "dfAwake_train1 = pd.read_csv('Data/Validation/validation_AData.txt', header=None, delim_whitespace=True)\n",
    "dfDrowsy_train1 = pd.read_csv('Data/Validation/validation_DData.txt', header=None, delim_whitespace=True)\n",
    "dfAwake_train2 = pd.read_csv('Data/Data for 2nd Level Classification/testing2_AData.txt', header=None, delim_whitespace=True)\n",
    "dfDrowsy_train2 = pd.read_csv('Data/Data for 2nd Level Classification/testing2_DData.txt', header=None, delim_whitespace=True)\n",
    "\n",
    "# dfAwake_train = pd.read_csv('Data/Subset Data/for PERCLOS/Subset 5/subset5_train_AData.txt', header=None, delim_whitespace=True)\n",
    "# dfDrowsy_train = pd.read_csv('Data/Subset Data/for PERCLOS/Subset 5/subset5_train_DData.txt', header=None, delim_whitespace=True)\n",
    "# dfAwake_test = pd.read_csv('Data/Data for 2nd Level Classification/testing2_AData.txt', header=None, delim_whitespace=True)\n",
    "# dfDrowsy_test = pd.read_csv('Data/Data for 2nd Level Classification/testing2_DData.txt', header=None, delim_whitespace=True)"
   ]
  },
  {
   "cell_type": "code",
   "execution_count": 3,
   "metadata": {},
   "outputs": [],
   "source": [
    "Awake_frames = [dfAwake_train1, dfAwake_train2]\n",
    "Drowsy_frames = [dfDrowsy_train1, dfDrowsy_train2]\n",
    "dfAwake_train = pd.concat(Awake_frames)\n",
    "dfDrowsy_train = pd.concat(Drowsy_frames)"
   ]
  },
  {
   "cell_type": "code",
   "execution_count": 4,
   "metadata": {},
   "outputs": [
    {
     "name": "stdout",
     "output_type": "stream",
     "text": [
      "(2430000, 15)\n",
      "(2700000, 15)\n"
     ]
    }
   ],
   "source": [
    "print(dfAwake_train.shape)\n",
    "print(dfDrowsy_train.shape)\n",
    "# print(dfAwake_test.shape)\n",
    "# print(dfDrowsy_test.shape)"
   ]
  },
  {
   "attachments": {},
   "cell_type": "markdown",
   "metadata": {},
   "source": [
    "### Copying dataframe for individual Modules"
   ]
  },
  {
   "cell_type": "code",
   "execution_count": 5,
   "metadata": {},
   "outputs": [],
   "source": [
    "dfAwakeIMU_train = dfAwakePerclos_train = dfAwakeEEG_train = dfAwake_train\n",
    "dfDrowsyIMU_train = dfDrowsyPerclos_train = dfDrowsyEEG_train = dfDrowsy_train\n",
    "# dfAwakeIMU_test = dfAwakePerclos_test = dfAwakeEEG_test = dfAwake_test\n",
    "# dfDrowsyIMU_test = dfDrowsyPerclos_test = dfDrowsyEEG_test = dfDrowsy_test"
   ]
  },
  {
   "cell_type": "code",
   "execution_count": 6,
   "metadata": {},
   "outputs": [
    {
     "name": "stdout",
     "output_type": "stream",
     "text": [
      "(2430000, 15)\n",
      "(2700000, 15)\n"
     ]
    }
   ],
   "source": [
    "print(dfAwakeIMU_train.shape)\n",
    "print(dfDrowsyIMU_train.shape)\n",
    "# print(dfAwakeIMU_test.shape)\n",
    "# print(dfDrowsyIMU_test.shape)"
   ]
  },
  {
   "cell_type": "code",
   "execution_count": 7,
   "metadata": {},
   "outputs": [
    {
     "name": "stdout",
     "output_type": "stream",
     "text": [
      "(2430000, 15)\n",
      "(2700000, 15)\n"
     ]
    }
   ],
   "source": [
    "print(dfAwakePerclos_train.shape)\n",
    "print(dfDrowsyPerclos_train.shape)\n",
    "# print(dfAwakePerclos_test.shape)\n",
    "# print(dfDrowsyPerclos_test.shape)"
   ]
  },
  {
   "cell_type": "code",
   "execution_count": 8,
   "metadata": {},
   "outputs": [
    {
     "name": "stdout",
     "output_type": "stream",
     "text": [
      "(2430000, 15)\n",
      "(2700000, 15)\n"
     ]
    }
   ],
   "source": [
    "print(dfAwakeEEG_train.shape)\n",
    "print(dfDrowsyEEG_train.shape)\n",
    "# print(dfAwakeEEG_test.shape)\n",
    "# print(dfDrowsyEEG_test.shape)"
   ]
  },
  {
   "attachments": {},
   "cell_type": "markdown",
   "metadata": {},
   "source": [
    "### Dropping Unnecessary Columns for particular Modules"
   ]
  },
  {
   "cell_type": "code",
   "execution_count": 9,
   "metadata": {},
   "outputs": [],
   "source": [
    "### For IMU\n",
    "dfAwakeIMU_train = dfAwakeIMU_train.drop(14,axis = 1)\n",
    "dfAwakeIMU_train = dfAwakeIMU_train.drop(dfAwakeIMU_train.iloc[:,0:12],axis = 1)\n",
    "dfDrowsyIMU_train = dfDrowsyIMU_train.drop(14,axis = 1)\n",
    "dfDrowsyIMU_train = dfDrowsyIMU_train.drop(dfDrowsyIMU_train.iloc[:,0:12],axis = 1)\n",
    "# dfAwakeIMU_test = dfAwakeIMU_test.drop(14,axis = 1)\n",
    "# dfAwakeIMU_test = dfAwakeIMU_test.drop(dfAwakeIMU_test.iloc[:,0:12],axis = 1)\n",
    "# dfDrowsyIMU_test = dfDrowsyIMU_test.drop(14,axis = 1)\n",
    "# dfDrowsyIMU_test = dfDrowsyIMU_test.drop(dfDrowsyIMU_test.iloc[:,0:12],axis = 1)"
   ]
  },
  {
   "cell_type": "code",
   "execution_count": 10,
   "metadata": {},
   "outputs": [],
   "source": [
    "### FOR PERCLOS\n",
    "dfAwakePerclos_train = dfAwakePerclos_train.drop(dfAwakePerclos_train.iloc[:,0:14],axis = 1)\n",
    "dfDrowsyPerclos_train = dfDrowsyPerclos_train.drop(dfDrowsyPerclos_train.iloc[:,0:14],axis = 1)\n",
    "# dfAwakePerclos_test = dfAwakePerclos_test.drop(dfAwakePerclos_test.iloc[:,0:14],axis = 1)\n",
    "# dfDrowsyPerclos_test = dfDrowsyPerclos_test.drop(dfDrowsyPerclos_test.iloc[:,0:14],axis = 1)"
   ]
  },
  {
   "cell_type": "code",
   "execution_count": 11,
   "metadata": {},
   "outputs": [],
   "source": [
    "### For EEG\n",
    "dfAwakeEEG_train = dfAwakeEEG_train.drop(dfAwakeEEG_train.iloc[:,11:15],axis = 1)\n",
    "dfAwakeEEG_train = dfAwakeEEG_train.drop(dfAwakeEEG_train.iloc[:,0:3],axis = 1)\n",
    "dfDrowsyEEG_train = dfDrowsyEEG_train.drop(dfDrowsyEEG_train.iloc[:,11:15],axis = 1)\n",
    "dfDrowsyEEG_train = dfDrowsyEEG_train.drop(dfDrowsyEEG_train.iloc[:,0:3],axis = 1)\n",
    "# dfAwakeEEG_test = dfAwakeEEG_test.drop(dfAwakeEEG_test.iloc[:,11:15],axis = 1)\n",
    "# dfAwakeEEG_test = dfAwakeEEG_test.drop(dfAwakeEEG_test.iloc[:,0:3],axis = 1)\n",
    "# dfDrowsyEEG_test = dfDrowsyEEG_test.drop(dfDrowsyEEG_test.iloc[:,11:15],axis = 1)\n",
    "# dfDrowsyEEG_test = dfDrowsyEEG_test.drop(dfDrowsyEEG_test.iloc[:,0:3],axis = 1)"
   ]
  },
  {
   "cell_type": "code",
   "execution_count": 12,
   "metadata": {},
   "outputs": [
    {
     "name": "stdout",
     "output_type": "stream",
     "text": [
      "IMU Shapes:\n",
      "(2430000, 2)\n",
      "(2700000, 2)\n",
      "Perclos Shapes:\n",
      "(2430000, 1)\n",
      "(2700000, 1)\n",
      "EEG Shapes:\n",
      "(2430000, 8)\n",
      "(2700000, 8)\n"
     ]
    }
   ],
   "source": [
    "print(\"IMU Shapes:\")\n",
    "print(dfAwakeIMU_train.shape)\n",
    "print(dfDrowsyIMU_train.shape)\n",
    "# print(dfAwakeIMU_test.shape)\n",
    "# print(dfDrowsyIMU_test.shape)\n",
    "print(\"Perclos Shapes:\")\n",
    "print(dfAwakePerclos_train.shape)\n",
    "print(dfDrowsyPerclos_train.shape)\n",
    "# print(dfAwakePerclos_test.shape)\n",
    "# print(dfDrowsyPerclos_test.shape)\n",
    "print(\"EEG Shapes:\")\n",
    "print(dfAwakeEEG_train.shape)\n",
    "print(dfDrowsyEEG_train.shape)\n",
    "# print(dfAwakeEEG_test.shape)\n",
    "# print(dfDrowsyEEG_test.shape)"
   ]
  },
  {
   "attachments": {},
   "cell_type": "markdown",
   "metadata": {},
   "source": [
    "### Reshaping Data"
   ]
  },
  {
   "cell_type": "code",
   "execution_count": 13,
   "metadata": {},
   "outputs": [],
   "source": [
    "### FOR IMU\n",
    "dfAwakeIMU_train = dfAwakeIMU_train.to_numpy()\n",
    "dfDrowsyIMU_train = dfDrowsyIMU_train.to_numpy()\n",
    "dfAwakeIMU_train = dfAwakeIMU_train.reshape(2700,900,2) # 3234 for subsets\n",
    "dfDrowsyIMU_train = dfDrowsyIMU_train.reshape(3000,900,2) # 2700 for subsets\n",
    "# dfAwakeIMU_test = dfAwakeIMU_test.to_numpy()\n",
    "# dfDrowsyIMU_test = dfDrowsyIMU_test.to_numpy()\n",
    "# dfAwakeIMU_test = dfAwakeIMU_test.reshape(900,900,2)\n",
    "# dfDrowsyIMU_test = dfDrowsyIMU_test.reshape(1200,900,2)\n",
    "\n",
    "### FOR PERCLOS\n",
    "dfAwakePerclos_train = dfAwakePerclos_train.to_numpy()\n",
    "dfDrowsyPerclos_train = dfDrowsyPerclos_train.to_numpy()\n",
    "dfAwakePerclos_train = dfAwakePerclos_train.reshape(2700,900,1)\n",
    "dfDrowsyPerclos_train = dfDrowsyPerclos_train.reshape(3000,900,1)\n",
    "# dfAwakePerclos_test = dfAwakePerclos_test.to_numpy()\n",
    "# dfDrowsyPerclos_test = dfDrowsyPerclos_test.to_numpy()\n",
    "# dfAwakePerclos_test = dfAwakePerclos_test.reshape(900,900,1)\n",
    "# dfDrowsyPerclos_test = dfDrowsyPerclos_test.reshape(1200,900,1)\n",
    "\n",
    "### FOR EEG\n",
    "dfAwakeEEG_train = dfAwakeEEG_train.to_numpy()\n",
    "dfDrowsyEEG_train = dfDrowsyEEG_train.to_numpy()\n",
    "dfAwakeEEG_train = dfAwakeEEG_train.reshape(2700,900,8)\n",
    "dfDrowsyEEG_train = dfDrowsyEEG_train.reshape(3000,900,8)\n",
    "# dfAwakeEEG_test = dfAwakeEEG_test.to_numpy()\n",
    "# dfDrowsyEEG_test = dfDrowsyEEG_test.to_numpy()\n",
    "# dfAwakeEEG_test = dfAwakeEEG_test.reshape(900,900,8)\n",
    "# dfDrowsyEEG_test = dfDrowsyEEG_test.reshape(1200,900,8)\n"
   ]
  },
  {
   "cell_type": "code",
   "execution_count": 14,
   "metadata": {},
   "outputs": [
    {
     "name": "stdout",
     "output_type": "stream",
     "text": [
      "IMU Shapes:\n",
      "(2700, 900, 2)\n",
      "(3000, 900, 2)\n",
      "Perclos Shapes:\n",
      "(2700, 900, 1)\n",
      "(3000, 900, 1)\n",
      "EEG Shapes:\n",
      "(2700, 900, 8)\n",
      "(3000, 900, 8)\n"
     ]
    }
   ],
   "source": [
    "print(\"IMU Shapes:\")\n",
    "print(dfAwakeIMU_train.shape)\n",
    "print(dfDrowsyIMU_train.shape)\n",
    "# print(dfAwakeIMU_test.shape)\n",
    "# print(dfDrowsyIMU_test.shape)\n",
    "print(\"Perclos Shapes:\")\n",
    "print(dfAwakePerclos_train.shape)\n",
    "print(dfDrowsyPerclos_train.shape)\n",
    "# print(dfAwakePerclos_test.shape)\n",
    "# print(dfDrowsyPerclos_test.shape)\n",
    "print(\"EEG Shapes:\")\n",
    "print(dfAwakeEEG_train.shape)\n",
    "print(dfDrowsyEEG_train.shape)\n",
    "# print(dfAwakeEEG_test.shape)\n",
    "# print(dfDrowsyEEG_test.shape)"
   ]
  },
  {
   "cell_type": "code",
   "execution_count": 15,
   "metadata": {},
   "outputs": [
    {
     "name": "stdout",
     "output_type": "stream",
     "text": [
      "(2700,)\n",
      "(3000,)\n"
     ]
    }
   ],
   "source": [
    "dfAwake_trainLabels = np.zeros(2700)\n",
    "print(dfAwake_trainLabels.shape)\n",
    "dfDrowsy_trainLabels = np.ones(3000)\n",
    "print(dfDrowsy_trainLabels.shape)\n",
    "# dfAwake_testLabels = np.zeros(900)\n",
    "# print(dfAwake_testLabels.shape)\n",
    "# dfDrowsy_testLabels = np.ones(1200)\n",
    "# print(dfDrowsy_testLabels.shape)"
   ]
  },
  {
   "cell_type": "code",
   "execution_count": 16,
   "metadata": {},
   "outputs": [
    {
     "name": "stdout",
     "output_type": "stream",
     "text": [
      "[0. 0. 0. ... 0. 0. 0.]\n",
      "[1. 1. 1. ... 1. 1. 1.]\n"
     ]
    }
   ],
   "source": [
    "print(dfAwake_trainLabels)\n",
    "print(dfDrowsy_trainLabels)\n",
    "# print(dfAwake_testLabels)\n",
    "# print(dfDrowsy_testLabels)"
   ]
  },
  {
   "attachments": {},
   "cell_type": "markdown",
   "metadata": {},
   "source": [
    "### Combining Awake Data and Drowsy Data"
   ]
  },
  {
   "cell_type": "code",
   "execution_count": 17,
   "metadata": {},
   "outputs": [
    {
     "name": "stdout",
     "output_type": "stream",
     "text": [
      "(5700, 900, 2)\n",
      "(5700, 900, 1)\n",
      "(5700, 900, 8)\n",
      "(5700,)\n",
      "[[[-0.02798591  0.04193911]\n",
      "  [-0.02060102  0.05796649]\n",
      "  [ 0.02636044  0.00898068]\n",
      "  ...\n",
      "  [ 0.01530918 -0.03989745]\n",
      "  [ 0.03755008 -0.00222858]\n",
      "  [ 0.0224502   0.03177793]]\n",
      "\n",
      " [[-0.02060102  0.05796649]\n",
      "  [ 0.02636044  0.00898068]\n",
      "  [ 0.05509621 -0.07215366]\n",
      "  ...\n",
      "  [ 0.03755008 -0.00222858]\n",
      "  [ 0.0224502   0.03177793]\n",
      "  [-0.00052871  0.03810056]]\n",
      "\n",
      " [[ 0.02636044  0.00898068]\n",
      "  [ 0.05509621 -0.07215366]\n",
      "  [ 0.06098313 -0.0114506 ]\n",
      "  ...\n",
      "  [ 0.0224502   0.03177793]\n",
      "  [-0.00052871  0.03810056]\n",
      "  [ 0.00110393  0.01174594]]\n",
      "\n",
      " ...\n",
      "\n",
      " [[-0.01538968 -0.00381893]\n",
      "  [-0.01108513  0.00549479]\n",
      "  [-0.0132084  -0.00062503]\n",
      "  ...\n",
      "  [-0.00202253  0.0016088 ]\n",
      "  [-0.00207898 -0.00485158]\n",
      "  [ 0.00513121 -0.00311212]]\n",
      "\n",
      " [[-0.01108513  0.00549479]\n",
      "  [-0.0132084  -0.00062503]\n",
      "  [-0.01549576 -0.01200462]\n",
      "  ...\n",
      "  [-0.00207898 -0.00485158]\n",
      "  [ 0.00513121 -0.00311212]\n",
      "  [ 0.01296438 -0.00488806]]\n",
      "\n",
      " [[-0.0132084  -0.00062503]\n",
      "  [-0.01549576 -0.01200462]\n",
      "  [-0.01053267  0.00184589]\n",
      "  ...\n",
      "  [ 0.00513121 -0.00311212]\n",
      "  [ 0.01296438 -0.00488806]\n",
      "  [ 0.00954596 -0.01792024]]]\n",
      "[[[4.777778]\n",
      "  [4.777778]\n",
      "  [4.777778]\n",
      "  ...\n",
      "  [4.555555]\n",
      "  [4.555555]\n",
      "  [4.555555]]\n",
      "\n",
      " [[4.777778]\n",
      "  [4.777778]\n",
      "  [4.777778]\n",
      "  ...\n",
      "  [4.555555]\n",
      "  [4.555555]\n",
      "  [4.555555]]\n",
      "\n",
      " [[4.777778]\n",
      "  [4.777778]\n",
      "  [5.      ]\n",
      "  ...\n",
      "  [4.555555]\n",
      "  [4.555555]\n",
      "  [4.555555]]\n",
      "\n",
      " ...\n",
      "\n",
      " [[5.444444]\n",
      "  [5.444444]\n",
      "  [5.444444]\n",
      "  ...\n",
      "  [6.666667]\n",
      "  [6.666667]\n",
      "  [6.666667]]\n",
      "\n",
      " [[5.444444]\n",
      "  [5.444444]\n",
      "  [5.666667]\n",
      "  ...\n",
      "  [6.666667]\n",
      "  [6.666667]\n",
      "  [6.666667]]\n",
      "\n",
      " [[5.444444]\n",
      "  [5.666667]\n",
      "  [5.777778]\n",
      "  ...\n",
      "  [6.666667]\n",
      "  [6.666667]\n",
      "  [6.666667]]]\n",
      "[[[1.000000e+00 2.530110e-01 8.082100e-02 ... 1.761300e-02 8.952000e-03\n",
      "   3.392000e-03]\n",
      "  [1.000000e+00 4.080650e-01 8.154600e-02 ... 2.237770e-01 2.499500e-02\n",
      "   3.063300e-02]\n",
      "  [1.000000e+00 4.080650e-01 8.154600e-02 ... 2.237770e-01 2.499500e-02\n",
      "   3.063300e-02]\n",
      "  ...\n",
      "  [1.000000e+00 5.140430e-01 4.286800e-02 ... 4.239200e-02 3.216200e-02\n",
      "   1.848400e-02]\n",
      "  [1.000000e+00 5.140430e-01 4.286800e-02 ... 4.239200e-02 3.216200e-02\n",
      "   1.848400e-02]\n",
      "  [1.000000e+00 9.398480e-01 4.209400e-02 ... 4.486290e-01 1.806410e-01\n",
      "   1.102700e-02]]\n",
      "\n",
      " [[1.000000e+00 4.080650e-01 8.154600e-02 ... 2.237770e-01 2.499500e-02\n",
      "   3.063300e-02]\n",
      "  [1.000000e+00 4.080650e-01 8.154600e-02 ... 2.237770e-01 2.499500e-02\n",
      "   3.063300e-02]\n",
      "  [1.000000e+00 4.080650e-01 8.154600e-02 ... 2.237770e-01 2.499500e-02\n",
      "   3.063300e-02]\n",
      "  ...\n",
      "  [1.000000e+00 5.140430e-01 4.286800e-02 ... 4.239200e-02 3.216200e-02\n",
      "   1.848400e-02]\n",
      "  [1.000000e+00 9.398480e-01 4.209400e-02 ... 4.486290e-01 1.806410e-01\n",
      "   1.102700e-02]\n",
      "  [1.000000e+00 9.398480e-01 4.209400e-02 ... 4.486290e-01 1.806410e-01\n",
      "   1.102700e-02]]\n",
      "\n",
      " [[1.000000e+00 4.080650e-01 8.154600e-02 ... 2.237770e-01 2.499500e-02\n",
      "   3.063300e-02]\n",
      "  [1.000000e+00 4.080650e-01 8.154600e-02 ... 2.237770e-01 2.499500e-02\n",
      "   3.063300e-02]\n",
      "  [1.000000e+00 3.715860e-01 1.437940e-01 ... 4.972200e-02 3.830800e-02\n",
      "   4.672100e-02]\n",
      "  ...\n",
      "  [1.000000e+00 9.398480e-01 4.209400e-02 ... 4.486290e-01 1.806410e-01\n",
      "   1.102700e-02]\n",
      "  [1.000000e+00 9.398480e-01 4.209400e-02 ... 4.486290e-01 1.806410e-01\n",
      "   1.102700e-02]\n",
      "  [1.000000e+00 9.398480e-01 4.209400e-02 ... 4.486290e-01 1.806410e-01\n",
      "   1.102700e-02]]\n",
      "\n",
      " ...\n",
      "\n",
      " [[1.000000e+00 2.605624e+00 1.573900e-01 ... 5.961980e-01 3.370750e-01\n",
      "   2.023700e-01]\n",
      "  [1.000000e+00 1.592520e+00 4.185845e+00 ... 2.112563e+00 6.830710e-01\n",
      "   8.216710e-01]\n",
      "  [1.000000e+00 1.592520e+00 4.185845e+00 ... 2.112563e+00 6.830710e-01\n",
      "   8.216710e-01]\n",
      "  ...\n",
      "  [1.000000e+00 9.787120e-01 2.078230e-01 ... 4.640770e-01 4.664720e-01\n",
      "   3.406070e-01]\n",
      "  [1.000000e+00 9.787120e-01 2.078230e-01 ... 4.640770e-01 4.664720e-01\n",
      "   3.406070e-01]\n",
      "  [1.000000e+00 1.935270e-01 4.109790e-01 ... 4.997220e-01 3.740730e-01\n",
      "   1.714580e-01]]\n",
      "\n",
      " [[1.000000e+00 1.592520e+00 4.185845e+00 ... 2.112563e+00 6.830710e-01\n",
      "   8.216710e-01]\n",
      "  [1.000000e+00 1.592520e+00 4.185845e+00 ... 2.112563e+00 6.830710e-01\n",
      "   8.216710e-01]\n",
      "  [1.000000e+00 1.592520e+00 4.185845e+00 ... 2.112563e+00 6.830710e-01\n",
      "   8.216710e-01]\n",
      "  ...\n",
      "  [1.000000e+00 9.787120e-01 2.078230e-01 ... 4.640770e-01 4.664720e-01\n",
      "   3.406070e-01]\n",
      "  [1.000000e+00 1.935270e-01 4.109790e-01 ... 4.997220e-01 3.740730e-01\n",
      "   1.714580e-01]\n",
      "  [1.000000e+00 1.935270e-01 4.109790e-01 ... 4.997220e-01 3.740730e-01\n",
      "   1.714580e-01]]\n",
      "\n",
      " [[1.000000e+00 1.592520e+00 4.185845e+00 ... 2.112563e+00 6.830710e-01\n",
      "   8.216710e-01]\n",
      "  [1.000000e+00 1.592520e+00 4.185845e+00 ... 2.112563e+00 6.830710e-01\n",
      "   8.216710e-01]\n",
      "  [1.000000e+00 1.198376e+00 2.909016e+00 ... 4.854491e+00 2.695061e+00\n",
      "   1.489228e+00]\n",
      "  ...\n",
      "  [1.000000e+00 1.935270e-01 4.109790e-01 ... 4.997220e-01 3.740730e-01\n",
      "   1.714580e-01]\n",
      "  [1.000000e+00 1.935270e-01 4.109790e-01 ... 4.997220e-01 3.740730e-01\n",
      "   1.714580e-01]\n",
      "  [1.000000e+00 1.935270e-01 4.109790e-01 ... 4.997220e-01 3.740730e-01\n",
      "   1.714580e-01]]]\n",
      "[0. 0. 0. ... 1. 1. 1.]\n"
     ]
    }
   ],
   "source": [
    "# dftrainIMU = dfAwakeIMU_train\n",
    "# dftrainPerclos = dfAwakePerclos_train\n",
    "# dftrainEEG = dfAwakeEEG_train\n",
    "# dftrainlabels = dfAwake_trainLabels\n",
    "dftrainIMU = np.concatenate((dfAwakeIMU_train, dfDrowsyIMU_train))\n",
    "dftrainPerclos = np.concatenate((dfAwakePerclos_train, dfDrowsyPerclos_train))\n",
    "dftrainEEG = np.concatenate((dfAwakeEEG_train, dfDrowsyEEG_train))\n",
    "dftrainlabels = np.concatenate((dfAwake_trainLabels, dfDrowsy_trainLabels))\n",
    "print(dftrainIMU.shape)\n",
    "print(dftrainPerclos.shape)\n",
    "print(dftrainEEG.shape)\n",
    "print(dftrainlabels.shape)\n",
    "print(dftrainIMU)\n",
    "print(dftrainPerclos)\n",
    "print(dftrainEEG)\n",
    "print(dftrainlabels)"
   ]
  },
  {
   "attachments": {},
   "cell_type": "markdown",
   "metadata": {},
   "source": [
    "### SHUFFLING DATA"
   ]
  },
  {
   "cell_type": "code",
   "execution_count": 18,
   "metadata": {},
   "outputs": [
    {
     "name": "stdout",
     "output_type": "stream",
     "text": [
      "[1454 4665 1472 ... 4225 1385 3046]\n"
     ]
    }
   ],
   "source": [
    "idx = np.random.permutation(len(dftrainlabels))\n",
    "print(idx)"
   ]
  },
  {
   "cell_type": "code",
   "execution_count": 19,
   "metadata": {},
   "outputs": [],
   "source": [
    "dftrainIMU=dftrainIMU[idx]\n",
    "dftrainPerclos=dftrainPerclos[idx]\n",
    "dftrainEEG=dftrainEEG[idx]\n",
    "dftrainlabels=dftrainlabels[idx]"
   ]
  },
  {
   "cell_type": "code",
   "execution_count": 20,
   "metadata": {},
   "outputs": [
    {
     "name": "stdout",
     "output_type": "stream",
     "text": [
      "(5700, 900, 2)\n",
      "(5700, 900, 1)\n",
      "(5700, 900, 8)\n",
      "(5700,)\n",
      "[[[ 3.04353786e-02  4.25858577e-03]\n",
      "  [ 3.30774494e-02 -8.00019774e-04]\n",
      "  [ 8.29457403e-03 -1.06780693e-02]\n",
      "  ...\n",
      "  [-8.19450862e-03  1.10740157e-03]\n",
      "  [-9.46861841e-03 -1.17464035e-03]\n",
      "  [-5.12445691e-03 -3.69539568e-03]]\n",
      "\n",
      " [[-7.04095708e-03 -1.25025204e-02]\n",
      "  [ 4.29308773e-04 -6.17619287e-03]\n",
      "  [-3.49461120e-03 -8.93996704e-03]\n",
      "  ...\n",
      "  [ 5.36061662e-03 -4.48194135e-02]\n",
      "  [ 7.80513500e-03 -3.82492480e-02]\n",
      "  [ 1.52715869e-03 -3.00157946e-02]]\n",
      "\n",
      " [[-4.39146599e-03  2.67933616e-02]\n",
      "  [-3.93945727e-03  1.58959492e-02]\n",
      "  [-3.97686065e-03  2.19687551e-02]\n",
      "  ...\n",
      "  [ 9.06366160e-03  3.54258913e-02]\n",
      "  [ 6.59601123e-04  2.73908106e-02]\n",
      "  [ 7.66121627e-03  3.96059324e-02]]\n",
      "\n",
      " ...\n",
      "\n",
      " [[-9.00973270e-03  6.66221425e-03]\n",
      "  [-6.17501101e-03  5.32589492e-03]\n",
      "  [ 2.80545587e-03 -4.83045013e-03]\n",
      "  ...\n",
      "  [ 1.76206106e-02 -5.91053768e-03]\n",
      "  [ 1.78172725e-02 -7.60094963e-03]\n",
      "  [ 1.17204213e-02 -8.21462221e-03]]\n",
      "\n",
      " [[-7.37098043e-03  7.38276573e-03]\n",
      "  [ 1.06487959e-02 -7.93923480e-03]\n",
      "  [-7.87093252e-05  3.25165313e-03]\n",
      "  ...\n",
      "  [ 7.86115205e-03 -7.16657512e-03]\n",
      "  [ 8.15612213e-03 -2.21681454e-03]\n",
      "  [-1.25065290e-02  2.39707196e-03]]\n",
      "\n",
      " [[ 2.27572362e-02 -1.22088908e-02]\n",
      "  [-9.24224700e-03 -2.29474662e-02]\n",
      "  [-1.91760171e-02 -1.95984834e-02]\n",
      "  ...\n",
      "  [ 8.64992872e-03 -2.21259987e-02]\n",
      "  [ 3.46594101e-02  4.46506603e-05]\n",
      "  [ 4.45293288e-02  1.42930550e-02]]]\n",
      "[[[ 1.333333]\n",
      "  [ 1.333333]\n",
      "  [ 1.333333]\n",
      "  ...\n",
      "  [ 0.444444]\n",
      "  [ 0.444444]\n",
      "  [ 0.444444]]\n",
      "\n",
      " [[15.333334]\n",
      "  [15.333334]\n",
      "  [15.333334]\n",
      "  ...\n",
      "  [25.111113]\n",
      "  [24.777777]\n",
      "  [24.555555]]\n",
      "\n",
      " [[ 1.777778]\n",
      "  [ 1.777778]\n",
      "  [ 1.777778]\n",
      "  ...\n",
      "  [ 0.333333]\n",
      "  [ 0.555556]\n",
      "  [ 0.555556]]\n",
      "\n",
      " ...\n",
      "\n",
      " [[10.777778]\n",
      "  [10.888888]\n",
      "  [10.555555]\n",
      "  ...\n",
      "  [11.777778]\n",
      "  [11.777778]\n",
      "  [11.777778]]\n",
      "\n",
      " [[ 1.777778]\n",
      "  [ 1.777778]\n",
      "  [ 1.777778]\n",
      "  ...\n",
      "  [ 0.666667]\n",
      "  [ 0.666667]\n",
      "  [ 0.666667]]\n",
      "\n",
      " [[ 3.888889]\n",
      "  [ 3.888889]\n",
      "  [ 3.888889]\n",
      "  ...\n",
      "  [ 5.888889]\n",
      "  [ 5.444444]\n",
      "  [ 5.444444]]]\n",
      "[[[1.       1.892722 0.81812  ... 1.015404 0.381668 0.154551]\n",
      "  [1.       1.892722 0.81812  ... 1.015404 0.381668 0.154551]\n",
      "  [1.       1.892722 0.81812  ... 1.015404 0.381668 0.154551]\n",
      "  ...\n",
      "  [1.       2.264244 1.852616 ... 1.790262 1.567006 0.77093 ]\n",
      "  [1.       0.214897 0.306672 ... 0.188955 0.05977  0.107654]\n",
      "  [1.       0.214897 0.306672 ... 0.188955 0.05977  0.107654]]\n",
      "\n",
      " [[1.       1.489713 0.454216 ... 4.007534 3.064329 1.068386]\n",
      "  [1.       0.559441 6.830493 ... 5.2549   0.961588 0.654683]\n",
      "  [1.       0.559441 6.830493 ... 5.2549   0.961588 0.654683]\n",
      "  ...\n",
      "  [1.       0.141813 0.034796 ... 0.036809 0.021438 0.014177]\n",
      "  [1.       0.141813 0.034796 ... 0.036809 0.021438 0.014177]\n",
      "  [1.       0.085058 0.048163 ... 0.056765 0.036218 0.0357  ]]\n",
      "\n",
      " [[1.       0.548551 0.51722  ... 0.355544 0.442887 0.187315]\n",
      "  [1.       0.548551 0.51722  ... 0.355544 0.442887 0.187315]\n",
      "  [1.       0.548551 0.51722  ... 0.355544 0.442887 0.187315]\n",
      "  ...\n",
      "  [1.       1.280108 0.445859 ... 1.240529 0.236486 0.232855]\n",
      "  [1.       1.313349 1.513432 ... 0.553538 0.125684 0.110412]\n",
      "  [1.       1.313349 1.513432 ... 0.553538 0.125684 0.110412]]\n",
      "\n",
      " ...\n",
      "\n",
      " [[1.       0.949215 0.926638 ... 0.896035 0.505929 0.26081 ]\n",
      "  [1.       1.244645 0.781079 ... 1.605418 0.690886 0.332948]\n",
      "  [1.       1.244645 0.781079 ... 1.605418 0.690886 0.332948]\n",
      "  ...\n",
      "  [1.       0.468555 0.358857 ... 0.80494  0.326919 0.237395]\n",
      "  [1.       0.684896 0.057728 ... 0.294684 0.12066  0.048899]\n",
      "  [1.       0.684896 0.057728 ... 0.294684 0.12066  0.048899]]\n",
      "\n",
      " [[1.       0.644521 0.178743 ... 0.109979 0.062222 0.060445]\n",
      "  [1.       0.644521 0.178743 ... 0.109979 0.062222 0.060445]\n",
      "  [1.       0.644521 0.178743 ... 0.109979 0.062222 0.060445]\n",
      "  ...\n",
      "  [1.       1.38072  1.105242 ... 0.524886 0.250273 0.218095]\n",
      "  [1.       1.201979 4.081891 ... 2.457543 1.056334 0.608409]\n",
      "  [1.       1.201979 4.081891 ... 2.457543 1.056334 0.608409]]\n",
      "\n",
      " [[1.       0.090684 0.00744  ... 0.03115  0.015802 0.011122]\n",
      "  [1.       0.090684 0.00744  ... 0.03115  0.015802 0.011122]\n",
      "  [1.       0.053867 0.014781 ... 0.01702  0.011676 0.008874]\n",
      "  ...\n",
      "  [1.       0.114629 0.032631 ... 0.022461 0.01535  0.01448 ]\n",
      "  [1.       0.114629 0.032631 ... 0.022461 0.01535  0.01448 ]\n",
      "  [1.       0.177437 0.050888 ... 0.082485 0.082424 0.031051]]]\n",
      "[0. 1. 0. ... 1. 0. 1.]\n"
     ]
    }
   ],
   "source": [
    "print(dftrainIMU.shape)\n",
    "print(dftrainPerclos.shape)\n",
    "print(dftrainEEG.shape)\n",
    "print(dftrainlabels.shape)\n",
    "print(dftrainIMU)\n",
    "print(dftrainPerclos)\n",
    "print(dftrainEEG)\n",
    "print(dftrainlabels)"
   ]
  },
  {
   "cell_type": "code",
   "execution_count": null,
   "metadata": {},
   "outputs": [],
   "source": [
    "# dftestIMU = np.concatenate((dfAwakeIMU_test, dfDrowsyIMU_test))\n",
    "# dftestPerclos = np.concatenate((dfAwakePerclos_test, dfDrowsyPerclos_test))\n",
    "# dftestEEG = np.concatenate((dfAwakeEEG_test, dfDrowsyEEG_test))\n",
    "# dftestlabels =np.concatenate((dfAwake_testLabels, dfDrowsy_testLabels))\n",
    "# print(dftestIMU.shape)\n",
    "# print(dftestPerclos.shape)\n",
    "# print(dftestEEG.shape)\n",
    "# print(dftestlabels.shape)\n",
    "# print(dftestIMU)\n",
    "# print(dftestPerclos)\n",
    "# print(dftestEEG)\n",
    "# print(dftestlabels)"
   ]
  },
  {
   "cell_type": "code",
   "execution_count": 21,
   "metadata": {},
   "outputs": [],
   "source": [
    "dftrainIMU = dftrainIMU.astype('float32')\n",
    "dftrainPerclos = dftrainPerclos.astype('float32')\n",
    "dftrainEEG = dftrainEEG.astype('float32')\n",
    "dftrainlabels = dftrainlabels.astype('float32')\n",
    "\n",
    "dftrainlabels_hot = np_utils.to_categorical(dftrainlabels, 2)"
   ]
  },
  {
   "cell_type": "code",
   "execution_count": 22,
   "metadata": {},
   "outputs": [
    {
     "name": "stdout",
     "output_type": "stream",
     "text": [
      "New dfttrainlabels shape:  [[1. 0.]\n",
      " [0. 1.]\n",
      " [1. 0.]\n",
      " ...\n",
      " [0. 1.]\n",
      " [1. 0.]\n",
      " [0. 1.]]\n",
      "New dfttrainlabels shape:  (5700,)\n",
      "New dfttrainlabels shape:  [0. 1. 0. ... 1. 0. 1.]\n"
     ]
    }
   ],
   "source": [
    "print('New dfttrainlabels shape: ', dftrainlabels_hot)\n",
    "print('New dfttrainlabels shape: ', dftrainlabels.shape)\n",
    "print('New dfttrainlabels shape: ', dftrainlabels)"
   ]
  },
  {
   "cell_type": "code",
   "execution_count": 23,
   "metadata": {},
   "outputs": [],
   "source": [
    "LABELS = ['Awake','Drowsy']"
   ]
  },
  {
   "attachments": {},
   "cell_type": "markdown",
   "metadata": {},
   "source": [
    "### Loading Models And Evaluating training Data from Each Module"
   ]
  },
  {
   "cell_type": "code",
   "execution_count": 24,
   "metadata": {},
   "outputs": [
    {
     "name": "stdout",
     "output_type": "stream",
     "text": [
      "179/179 [==============================] - 1s 2ms/step - loss: 0.7512 - sparse_categorical_accuracy: 0.5247\n",
      "IMU:\n",
      "Train accuracy 0.5247368216514587\n",
      "Train loss 0.7511531114578247\n",
      "179/179 [==============================] - 0s 2ms/step - loss: 0.3492 - sparse_categorical_accuracy: 0.7414\n",
      "PERCLOS:\n",
      "Train accuracy 0.7414035201072693\n",
      "Train loss 0.3492409288883209\n",
      "179/179 [==============================] - 1s 3ms/step - loss: 0.4526 - sparse_categorical_accuracy: 0.8319\n",
      "EEG:\n",
      "Train accuracy 0.8319298028945923\n",
      "Train loss 0.45256879925727844\n"
     ]
    }
   ],
   "source": [
    "### FOR IMU\n",
    "modelIMU = keras.models.load_model(\"best_model(imuv3).h5\")\n",
    "\n",
    "train_loss, train_acc = modelIMU.evaluate(dftrainIMU, dftrainlabels,verbose=1)\n",
    "\n",
    "print(\"IMU:\")\n",
    "print(\"Train accuracy\", train_acc)\n",
    "print(\"Train loss\", train_loss)\n",
    "\n",
    "### FOR PERCLOS\n",
    "modelPerclos = keras.models.load_model(\"best_model(perclosv2).h5\")\n",
    "\n",
    "train_loss, train_acc = modelPerclos.evaluate(dftrainPerclos, dftrainlabels,verbose=1)\n",
    "\n",
    "print(\"PERCLOS:\")\n",
    "print(\"Train accuracy\", train_acc)\n",
    "print(\"Train loss\", train_loss)\n",
    "\n",
    "### FOR EEG\n",
    "modelEEG = keras.models.load_model(\"best_model(eegv2).h5\")\n",
    "\n",
    "train_loss, train_acc = modelEEG.evaluate(dftrainEEG, dftrainlabels,verbose=1)\n",
    "\n",
    "print(\"EEG:\")\n",
    "print(\"Train accuracy\", train_acc)\n",
    "print(\"Train loss\", train_loss)"
   ]
  },
  {
   "cell_type": "code",
   "execution_count": 25,
   "metadata": {},
   "outputs": [
    {
     "name": "stdout",
     "output_type": "stream",
     "text": [
      "179/179 [==============================] - 0s 2ms/step\n",
      "179/179 [==============================] - 0s 2ms/step\n",
      "179/179 [==============================] - 1s 3ms/step\n"
     ]
    }
   ],
   "source": [
    "y_pred_train_IMU = modelIMU.predict(dftrainIMU)\n",
    "y_pred_train_Perclos = modelPerclos.predict(dftrainPerclos)\n",
    "y_pred_train_EEG = modelEEG.predict(dftrainEEG)\n",
    "max_y_train = np.argmax(dftrainlabels_hot, axis=1)\n",
    "\n",
    "max_y_pred_train_IMU = np.argmax(y_pred_train_IMU, axis=1)\n",
    "max_y_pred_train_Perclos = np.argmax(y_pred_train_Perclos, axis=1)\n",
    "max_y_pred_train_EEG = np.argmax(y_pred_train_EEG, axis=1)"
   ]
  },
  {
   "cell_type": "code",
   "execution_count": 26,
   "metadata": {},
   "outputs": [
    {
     "name": "stdout",
     "output_type": "stream",
     "text": [
      "IMU Confusion matrix\n"
     ]
    },
    {
     "data": {
      "image/png": "[encoded data removed]",
      "text/plain": [
       "<Figure size 600x400 with 2 Axes>"
      ]
     },
     "metadata": {},
     "output_type": "display_data"
    },
    {
     "name": "stdout",
     "output_type": "stream",
     "text": [
      "PERCLOS Confusion matrix\n"
     ]
    },
    {
     "data": {
      "image/png": "[encoded data removed]",
      "text/plain": [
       "<Figure size 600x400 with 2 Axes>"
      ]
     },
     "metadata": {},
     "output_type": "display_data"
    },
    {
     "name": "stdout",
     "output_type": "stream",
     "text": [
      "EEG Confusion matrix\n"
     ]
    },
    {
     "data": {
      "image/png": "[encoded data removed]",
      "text/plain": [
       "<Figure size 600x400 with 2 Axes>"
      ]
     },
     "metadata": {},
     "output_type": "display_data"
    }
   ],
   "source": [
    "def show_confusion_matrix(validations, predictions):\n",
    "\n",
    "    matrix = metrics.confusion_matrix(validations, predictions)\n",
    "    plt.figure(figsize=(6, 4))\n",
    "    sns.heatmap(matrix,\n",
    "                cmap='coolwarm',\n",
    "                linecolor='white',\n",
    "                linewidths=1,\n",
    "                xticklabels=LABELS,\n",
    "                yticklabels=LABELS,\n",
    "                annot=True,\n",
    "                fmt='d')\n",
    "    plt.title('Confusion Matrix')\n",
    "    plt.ylabel('True Label')\n",
    "    plt.xlabel('Predicted Label')\n",
    "    plt.show()\n",
    "\n",
    "print(\"IMU Confusion matrix\")\n",
    "show_confusion_matrix(max_y_train, max_y_pred_train_IMU)\n",
    "print(\"PERCLOS Confusion matrix\")\n",
    "show_confusion_matrix(max_y_train, max_y_pred_train_Perclos)\n",
    "print(\"EEG Confusion matrix\")\n",
    "show_confusion_matrix(max_y_train, max_y_pred_train_EEG)"
   ]
  },
  {
   "attachments": {},
   "cell_type": "markdown",
   "metadata": {},
   "source": [
    "### Getting Results compared to Actual label of data"
   ]
  },
  {
   "cell_type": "code",
   "execution_count": 27,
   "metadata": {},
   "outputs": [
    {
     "name": "stdout",
     "output_type": "stream",
     "text": [
      "Results of Model for IMU:\n",
      "[1 0 1 ... 0 1 0]\n",
      "Results of Model for Perclos:\n",
      "[0 1 0 ... 1 0 0]\n",
      "Results of Model for EEG:\n",
      "[0 1 0 ... 1 0 1]\n",
      "Actual Label:\n",
      "[0 1 0 ... 1 0 1]\n"
     ]
    }
   ],
   "source": [
    "print(\"Results of Model for IMU:\")\n",
    "print(max_y_pred_train_IMU)\n",
    "print(\"Results of Model for Perclos:\")\n",
    "print(max_y_pred_train_Perclos)\n",
    "print(\"Results of Model for EEG:\")\n",
    "print(max_y_pred_train_EEG)\n",
    "print(\"Actual Label:\")\n",
    "print(max_y_train)\n",
    "\n",
    "# with np.printoptions(threshold=np.inf):\n",
    "#     print(\"Results of Model for IMU:\")\n",
    "#     print(max_y_pred_train_IMU)\n",
    "#     print(\"Results of Model for Perclos:\")\n",
    "#     print(max_y_pred_train_Perclos)\n",
    "#     print(\"Results of Model for EEG:\")\n",
    "#     print(max_y_pred_train_EEG)\n",
    "#     print(\"Actual Label:\")\n",
    "#     print(max_y_train)"
   ]
  },
  {
   "cell_type": "code",
   "execution_count": 28,
   "metadata": {},
   "outputs": [
    {
     "name": "stdout",
     "output_type": "stream",
     "text": [
      "(5700,)\n"
     ]
    }
   ],
   "source": [
    "print(max_y_train.shape)"
   ]
  },
  {
   "attachments": {},
   "cell_type": "markdown",
   "metadata": {},
   "source": [
    "### Reshaping Results"
   ]
  },
  {
   "cell_type": "code",
   "execution_count": 29,
   "metadata": {},
   "outputs": [],
   "source": [
    "max_y_pred_train_IMU = np.array(max_y_pred_train_IMU)\n",
    "max_y_pred_train_Perclos = np.array(max_y_pred_train_Perclos)\n",
    "max_y_pred_train_EEG = np.array(max_y_pred_train_EEG)\n",
    "max_y_train = np.array(max_y_train)\n",
    "\n",
    "\n",
    "max_y_pred_train_IMU = max_y_pred_train_IMU.reshape(5700,)\n",
    "max_y_pred_train_Perclos = max_y_pred_train_Perclos.reshape(5700,)\n",
    "max_y_pred_train_EEG = max_y_pred_train_EEG.reshape(5700,)\n",
    "max_y_train = max_y_train.reshape(5700,)"
   ]
  },
  {
   "cell_type": "code",
   "execution_count": 30,
   "metadata": {},
   "outputs": [
    {
     "name": "stdout",
     "output_type": "stream",
     "text": [
      "(5700,)\n",
      "(5700,)\n",
      "(5700,)\n",
      "(5700,)\n"
     ]
    }
   ],
   "source": [
    "print(max_y_pred_train_IMU.shape)\n",
    "print(max_y_pred_train_Perclos.shape)\n",
    "print(max_y_pred_train_EEG.shape)\n",
    "print(max_y_train.shape)"
   ]
  },
  {
   "cell_type": "code",
   "execution_count": 31,
   "metadata": {},
   "outputs": [],
   "source": [
    "max_y_pred_train_IMU = pd.DataFrame(max_y_pred_train_IMU)\n",
    "max_y_pred_train_Perclos = pd.DataFrame(max_y_pred_train_Perclos)\n",
    "max_y_pred_train_EEG = pd.DataFrame(max_y_pred_train_EEG)\n",
    "max_y_train = pd.DataFrame(max_y_train)"
   ]
  },
  {
   "cell_type": "code",
   "execution_count": 32,
   "metadata": {},
   "outputs": [
    {
     "name": "stdout",
     "output_type": "stream",
     "text": [
      "(5700, 1)\n",
      "(5700, 1)\n",
      "(5700, 1)\n",
      "(5700, 1)\n"
     ]
    }
   ],
   "source": [
    "print(max_y_pred_train_IMU.shape)\n",
    "print(max_y_pred_train_Perclos.shape)\n",
    "print(max_y_pred_train_EEG.shape)\n",
    "print(max_y_train.shape)"
   ]
  },
  {
   "cell_type": "code",
   "execution_count": 33,
   "metadata": {},
   "outputs": [
    {
     "name": "stdout",
     "output_type": "stream",
     "text": [
      "      0\n",
      "0     1\n",
      "1     0\n",
      "2     1\n",
      "3     0\n",
      "4     0\n",
      "...  ..\n",
      "5695  0\n",
      "5696  0\n",
      "5697  0\n",
      "5698  1\n",
      "5699  0\n",
      "\n",
      "[5700 rows x 1 columns]\n",
      "      0\n",
      "0     0\n",
      "1     1\n",
      "2     0\n",
      "3     1\n",
      "4     0\n",
      "...  ..\n",
      "5695  1\n",
      "5696  0\n",
      "5697  1\n",
      "5698  0\n",
      "5699  0\n",
      "\n",
      "[5700 rows x 1 columns]\n",
      "      0\n",
      "0     0\n",
      "1     1\n",
      "2     0\n",
      "3     1\n",
      "4     1\n",
      "...  ..\n",
      "5695  0\n",
      "5696  1\n",
      "5697  1\n",
      "5698  0\n",
      "5699  1\n",
      "\n",
      "[5700 rows x 1 columns]\n",
      "      0\n",
      "0     0\n",
      "1     1\n",
      "2     0\n",
      "3     1\n",
      "4     1\n",
      "...  ..\n",
      "5695  0\n",
      "5696  0\n",
      "5697  1\n",
      "5698  0\n",
      "5699  1\n",
      "\n",
      "[5700 rows x 1 columns]\n"
     ]
    }
   ],
   "source": [
    "print(max_y_pred_train_IMU)\n",
    "print(max_y_pred_train_Perclos)\n",
    "print(max_y_pred_train_EEG)\n",
    "print(max_y_train)"
   ]
  },
  {
   "attachments": {},
   "cell_type": "markdown",
   "metadata": {},
   "source": [
    "### Saving Training Results to a File"
   ]
  },
  {
   "cell_type": "code",
   "execution_count": 34,
   "metadata": {},
   "outputs": [],
   "source": [
    "max_y_pred_train_IMU.to_csv('imuData.txt',index=False,encoding = 'utf-8')\n",
    "max_y_pred_train_Perclos.to_csv('perclosData.txt',index=False,encoding = 'utf-8')\n",
    "max_y_pred_train_EEG.to_csv('eegData.txt',index=False,encoding = 'utf-8')\n",
    "max_y_train.to_csv('labelsData.txt',index=False,encoding = 'utf-8')"
   ]
  },
  {
   "attachments": {},
   "cell_type": "markdown",
   "metadata": {},
   "source": [
    "### Do the same for Testing Data"
   ]
  },
  {
   "cell_type": "code",
   "execution_count": null,
   "metadata": {},
   "outputs": [],
   "source": [
    "# dftestIMU = dftestIMU.astype('float32')\n",
    "# dftestPerclos = dftestPerclos.astype('float32')\n",
    "# dftestEEG = dftestEEG.astype('float32')\n",
    "# dftestlabels = dftestlabels.astype('float32')\n",
    "\n",
    "# dftestlabels_hot = np_utils.to_categorical(dftestlabels, 2)"
   ]
  },
  {
   "cell_type": "code",
   "execution_count": null,
   "metadata": {},
   "outputs": [],
   "source": [
    "# print('New dfttrainlabels shape: ', dftestlabels_hot)\n",
    "# print('New dfttrainlabels shape: ', dftestlabels.shape)\n",
    "# print('New dfttrainlabels shape: ', dftestlabels)"
   ]
  },
  {
   "cell_type": "code",
   "execution_count": null,
   "metadata": {},
   "outputs": [],
   "source": [
    "# ### FOR IMU\n",
    "# modelIMU = keras.models.load_model(\"best_model(imuv3).h5\")\n",
    "\n",
    "# test_loss, test_acc = modelIMU.evaluate(dftestIMU, dftestlabels,verbose=1)\n",
    "\n",
    "# print(\"IMU:\")\n",
    "# print(\"Test accuracy\", test_acc)\n",
    "# print(\"Test loss\", test_loss)\n",
    "\n",
    "# ### FOR PERCLOS\n",
    "# modelPerclos = keras.models.load_model(\"best_model(perclosv2).h5\")\n",
    "\n",
    "# test_loss, test_acc = modelPerclos.evaluate(dftestPerclos, dftestlabels,verbose=1)\n",
    "\n",
    "# print(\"PERCLOS:\")\n",
    "# print(\"Test accuracy\", test_acc)\n",
    "# print(\"Test loss\", test_loss)\n",
    "\n",
    "# ### FOR EEG\n",
    "# modelEEG = keras.models.load_model(\"best_model(eeg).h5\")\n",
    "\n",
    "# test_loss, test_acc = modelEEG.evaluate(dftestEEG, dftestlabels,verbose=1)\n",
    "\n",
    "# print(\"EEG:\")\n",
    "# print(\"Test accuracy\", test_acc)\n",
    "# print(\"Test loss\", test_loss)"
   ]
  },
  {
   "cell_type": "code",
   "execution_count": null,
   "metadata": {},
   "outputs": [],
   "source": [
    "# y_pred_test_IMU = modelIMU.predict(dftestIMU)\n",
    "# y_pred_test_Perclos = modelPerclos.predict(dftestPerclos)\n",
    "# y_pred_test_EEG = modelEEG.predict(dftestEEG)\n",
    "# max_y_test = np.argmax(dftestlabels_hot, axis=1)\n",
    "\n",
    "# max_y_pred_test_IMU = np.argmax(y_pred_test_IMU, axis=1)\n",
    "# max_y_pred_test_Perclos = np.argmax(y_pred_test_Perclos, axis=1)\n",
    "# max_y_pred_test_EEG = np.argmax(y_pred_test_EEG, axis=1)"
   ]
  },
  {
   "cell_type": "code",
   "execution_count": null,
   "metadata": {},
   "outputs": [],
   "source": [
    "# print(\"Results of Model for IMU:\")\n",
    "# print(max_y_pred_test_IMU)\n",
    "# print(\"Results of Model for Perclos:\")\n",
    "# print(max_y_pred_test_Perclos)\n",
    "# print(\"Results of Model for EEG:\")\n",
    "# print(max_y_pred_test_EEG)\n",
    "# print(\"Actual Label:\")\n",
    "# print(max_y_test)"
   ]
  },
  {
   "cell_type": "code",
   "execution_count": null,
   "metadata": {},
   "outputs": [],
   "source": [
    "# print(max_y_test.shape)"
   ]
  },
  {
   "cell_type": "code",
   "execution_count": null,
   "metadata": {},
   "outputs": [],
   "source": [
    "# max_y_pred_test_IMU = np.array(max_y_pred_test_IMU)\n",
    "# max_y_pred_test_Perclos = np.array(max_y_pred_test_Perclos)\n",
    "# max_y_pred_test_EEG = np.array(max_y_pred_test_EEG)\n",
    "# max_y_test = np.array(max_y_test)\n",
    "\n",
    "\n",
    "# max_y_pred_test_IMU = max_y_pred_test_IMU.reshape(2100,)\n",
    "# max_y_pred_test_Perclos = max_y_pred_test_Perclos.reshape(2100,)\n",
    "# max_y_pred_test_EEG = max_y_pred_test_EEG.reshape(2100,)\n",
    "# max_y_test = max_y_test.reshape(2100,)"
   ]
  },
  {
   "cell_type": "code",
   "execution_count": null,
   "metadata": {},
   "outputs": [],
   "source": [
    "# print(max_y_pred_test_IMU.shape)\n",
    "# print(max_y_pred_test_Perclos.shape)\n",
    "# print(max_y_pred_test_EEG.shape)\n",
    "# print(max_y_test.shape)"
   ]
  },
  {
   "cell_type": "code",
   "execution_count": null,
   "metadata": {},
   "outputs": [],
   "source": [
    "# max_y_pred_test_IMU = pd.DataFrame(max_y_pred_test_IMU)\n",
    "# max_y_pred_test_Perclos = pd.DataFrame(max_y_pred_test_Perclos)\n",
    "# max_y_pred_test_EEG = pd.DataFrame(max_y_pred_test_EEG)\n",
    "# max_y_test = pd.DataFrame(max_y_test)"
   ]
  },
  {
   "cell_type": "code",
   "execution_count": null,
   "metadata": {},
   "outputs": [],
   "source": [
    "# print(max_y_pred_test_IMU.shape)\n",
    "# print(max_y_pred_test_Perclos.shape)\n",
    "# print(max_y_pred_test_EEG.shape)\n",
    "# print(max_y_test.shape)"
   ]
  },
  {
   "cell_type": "code",
   "execution_count": null,
   "metadata": {},
   "outputs": [],
   "source": [
    "# print(max_y_pred_test_IMU)\n",
    "# print(max_y_pred_test_Perclos)\n",
    "# print(max_y_pred_test_EEG)\n",
    "# print(max_y_test)"
   ]
  },
  {
   "cell_type": "code",
   "execution_count": null,
   "metadata": {},
   "outputs": [],
   "source": [
    "# max_y_pred_test_IMU.to_csv('imuDatatest.txt',index=False,encoding = 'utf-8')\n",
    "# max_y_pred_test_Perclos.to_csv('perclosDatatest.txt',index=False,encoding = 'utf-8')\n",
    "# max_y_pred_test_EEG.to_csv('eegDatatest.txt',index=False,encoding = 'utf-8')\n",
    "# max_y_test.to_csv('labelsDatatest.txt',index=False,encoding = 'utf-8')"
   ]
  }
 ],
 "metadata": {
  "kernelspec": {
   "display_name": "Python 3",
   "language": "python",
   "name": "python3"
  },
  "language_info": {
   "codemirror_mode": {
    "name": "ipython",
    "version": 3
   },
   "file_extension": ".py",
   "mimetype": "text/x-python",
   "name": "python",
   "nbconvert_exporter": "python",
   "pygments_lexer": "ipython3",
   "version": "3.10.8 (tags/v3.10.8:aaaf517, Oct 11 2022, 16:50:30) [MSC v.1933 64 bit (AMD64)]"
  },
  "orig_nbformat": 4,
  "vscode": {
   "interpreter": {
    "hash": "26de051ba29f2982a8de78e945f0abaf191376122a1563185a90213a26c5da77"
   }
  }
 },
 "nbformat": 4,
 "nbformat_minor": 2
}
